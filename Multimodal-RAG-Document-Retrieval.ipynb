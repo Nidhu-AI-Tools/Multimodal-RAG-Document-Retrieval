{
 "cells": [
  {
   "cell_type": "code",
   "execution_count": 16,
   "id": "5f29ab5c-bcda-45d5-9f72-e555cb20890c",
   "metadata": {},
   "outputs": [],
   "source": [
    "# !pip install -U byaldi pdf2image qwen-vl-utils transformers\n",
    "# run the above in the terminal"
   ]
  },
  {
   "cell_type": "code",
   "execution_count": null,
   "id": "7b2c0def-7a59-417f-a1da-6a6ee0941c5c",
   "metadata": {},
   "outputs": [],
   "source": [
    "# brew install poppler\n",
    "!pdftoppm -v\n",
    "import subprocess\n",
    "result = subprocess.run(['pdftoppm', '-v'], stdout=subprocess.PIPE, stderr=subprocess.PIPE)\n",
    "print(result.stdout.decode())\n",
    "print(result.stderr.decode())\n"
   ]
  },
  {
   "cell_type": "code",
   "execution_count": null,
   "id": "294a1fb0-e109-4e0d-a585-0e938a81e9e7",
   "metadata": {},
   "outputs": [],
   "source": [
    "import os\n",
    "\n",
    "# map each product name to its local PDF path\n",
    "pdfs = {\n",
    "    \"MALM\":   os.path.join(\"data\", \"MALM.pdf\"),\n",
    "    \"BILLY\":  os.path.join(\"data\", \"BILLY.pdf\"),\n",
    "    \"BOAXEL\": os.path.join(\"data\", \"BOAXEL.pdf\"),\n",
    "    \"ADILS\":  os.path.join(\"data\", \"ADILS.pdf\"),\n",
    "    \"MICKE\":  os.path.join(\"data\", \"MICKE.pdf\"),\n",
    "}\n",
    "\n",
    "# check they all exist\n",
    "for name, path in pdfs.items():\n",
    "    if not os.path.isfile(path):\n",
    "        raise FileNotFoundError(f\"{name} PDF not found at {path}\")\n",
    "    print(f\"Found {name} at {path}\")\n",
    "\n",
    "# now you can feed those paths directly into pdf2image, byaldi, etc.\n",
    "# e.g.:\n",
    "from pdf2image import convert_from_path\n",
    "\n",
    "all_images = {}\n",
    "for doc_id, (name, pdf_path) in enumerate(pdfs.items()):\n",
    "    pages = convert_from_path(pdf_path)\n",
    "    all_images[doc_id] = pages\n",
    "    print(f\"{name}: {len(pages)} pages converted\")"
   ]
  },
  {
   "cell_type": "code",
   "execution_count": null,
   "id": "ec6a1171-2cba-4386-8989-200f0611cfa4",
   "metadata": {},
   "outputs": [],
   "source": [
    "import os\n",
    "from pdf2image import convert_from_path\n",
    "\n",
    "\n",
    "def convert_pdfs_to_images(pdf_folder):\n",
    "    pdf_files = [f for f in os.listdir(pdf_folder) if f.endswith(\".pdf\")]\n",
    "    all_images = {}\n",
    "\n",
    "    for doc_id, pdf_file in enumerate(pdf_files):\n",
    "        pdf_path = os.path.join(pdf_folder, pdf_file)\n",
    "        images = convert_from_path(pdf_path)\n",
    "        all_images[doc_id] = images\n",
    "\n",
    "    return all_images\n",
    "\n",
    "\n",
    "all_images = convert_pdfs_to_images(\"data/\")"
   ]
  },
  {
   "cell_type": "code",
   "execution_count": null,
   "id": "1461e526-8657-4dfa-9253-c6748cd69584",
   "metadata": {},
   "outputs": [],
   "source": [
    "import matplotlib.pyplot as plt\n",
    "\n",
    "fig, axes = plt.subplots(1, 8, figsize=(15, 10))\n",
    "\n",
    "for i, ax in enumerate(axes.flat):\n",
    "    img = all_images[0][i]\n",
    "    ax.imshow(img)\n",
    "    ax.axis(\"off\")\n",
    "\n",
    "plt.tight_layout()\n",
    "plt.show()"
   ]
  },
  {
   "cell_type": "code",
   "execution_count": null,
   "id": "c87e315a",
   "metadata": {},
   "outputs": [],
   "source": [
    "import torch\n",
    "device = (\n",
    "    torch.device(\"cuda\")\n",
    "    if torch.cuda.is_available() else\n",
    "    torch.device(\"mps\")\n",
    "    if torch.backends.mps.is_available() else\n",
    "    torch.device(\"cpu\")\n",
    ")\n",
    "print(\"Running on\", device)\n"
   ]
  },
  {
   "cell_type": "code",
   "execution_count": null,
   "id": "c551568c-5c04-45a8-b172-cb95a41ca1cc",
   "metadata": {},
   "outputs": [],
   "source": [
    "# from byaldi import RAGMultiModalModel\n",
    "\n",
    "# docs_retrieval_model = RAGMultiModalModel.from_pretrained(\"vidore/colpali-v1.2\")\n",
    "\n",
    "import torch\n",
    "from byaldi import RAGMultiModalModel\n",
    "\n",
    "device = \"mps\" if torch.backends.mps.is_available() else \"cpu\"\n",
    "print(\"Loading on\", device)\n",
    "\n",
    "docs_retrieval_model = RAGMultiModalModel.from_pretrained(\n",
    "    \"vidore/colpali-v1.2\",\n",
    "    device=device\n",
    ")"
   ]
  },
  {
   "cell_type": "code",
   "execution_count": null,
   "id": "4c7113e8-a402-4a82-985e-006cb2fb40ab",
   "metadata": {},
   "outputs": [],
   "source": [
    "docs_retrieval_model.index(\n",
    "    input_path=\"data/\", index_name=\"image_index\", store_collection_with_index=False, overwrite=True\n",
    ")"
   ]
  },
  {
   "cell_type": "code",
   "execution_count": null,
   "id": "e53dc5eb-94db-4964-b33a-1f45aee068ce",
   "metadata": {},
   "outputs": [],
   "source": [
    "text_query = \"How many people are needed to assemble the Malm?\"\n",
    "\n",
    "results = docs_retrieval_model.search(text_query, k=3)\n",
    "results"
   ]
  },
  {
   "cell_type": "code",
   "execution_count": 9,
   "id": "b231853b-db00-4d19-9a9d-f8e3d1c0a170",
   "metadata": {},
   "outputs": [],
   "source": [
    "def get_grouped_images(results, all_images):\n",
    "    grouped_images = []\n",
    "\n",
    "    for result in results:\n",
    "        doc_id = result[\"doc_id\"]\n",
    "        page_num = result[\"page_num\"]\n",
    "        grouped_images.append(\n",
    "            all_images[doc_id][page_num - 1]\n",
    "        )  # page_num are 1-indexed, while doc_ids are 0-indexed. Source https://github.com/AnswerDotAI/byaldi?tab=readme-ov-file#searching\n",
    "\n",
    "    return grouped_images\n",
    "\n",
    "\n",
    "grouped_images = get_grouped_images(results, all_images)"
   ]
  },
  {
   "cell_type": "code",
   "execution_count": null,
   "id": "c059063d-86bc-481d-9749-c1b52ee5ba85",
   "metadata": {},
   "outputs": [],
   "source": [
    "import matplotlib.pyplot as plt\n",
    "\n",
    "fig, axes = plt.subplots(1, 3, figsize=(15, 10))\n",
    "\n",
    "for i, ax in enumerate(axes.flat):\n",
    "    img = grouped_images[i]\n",
    "    ax.imshow(img)\n",
    "    ax.axis(\"off\")\n",
    "\n",
    "plt.tight_layout()\n",
    "plt.show()"
   ]
  },
  {
   "cell_type": "code",
   "execution_count": null,
   "id": "0737edd0-ce4e-45af-8b26-c4f487b44b35",
   "metadata": {},
   "outputs": [],
   "source": [
    "from transformers import Qwen2VLForConditionalGeneration, Qwen2VLProcessor\n",
    "from qwen_vl_utils import process_vision_info\n",
    "import torch\n",
    "\n",
    "vl_model = Qwen2VLForConditionalGeneration.from_pretrained(\n",
    "    \"Qwen/Qwen2-VL-7B-Instruct\",\n",
    "    torch_dtype=torch.bfloat16,\n",
    ")\n",
    "# vl_model.cuda().eval()\n",
    "\n",
    "if torch.backends.mps.is_available():                      # Apple Silicon (M1/M2) Metal support\n",
    "    device = torch.device(\"mps\")\n",
    "else:\n",
    "    device = torch.device(\"cpu\")\n",
    "\n",
    "vl_model.to(device).eval()"
   ]
  },
  {
   "cell_type": "code",
   "execution_count": null,
   "id": "27ac9d45-f420-445b-94db-d8ba24d0a6ae",
   "metadata": {},
   "outputs": [],
   "source": [
    "min_pixels = 224 * 224\n",
    "max_pixels = 1024 * 1024\n",
    "vl_model_processor = Qwen2VLProcessor.from_pretrained(\n",
    "    \"Qwen/Qwen2-VL-7B-Instruct\", min_pixels=min_pixels, max_pixels=max_pixels\n",
    ")"
   ]
  },
  {
   "cell_type": "code",
   "execution_count": 13,
   "id": "2334ac03-e76e-459f-b10b-59cf21e013dd",
   "metadata": {},
   "outputs": [],
   "source": [
    "chat_template = [\n",
    "    {\n",
    "        \"role\": \"user\",\n",
    "        \"content\": [\n",
    "            {\n",
    "                \"type\": \"image\",\n",
    "                \"image\": grouped_images[0],\n",
    "            },\n",
    "            {\n",
    "                \"type\": \"image\",\n",
    "                \"image\": grouped_images[1],\n",
    "            },\n",
    "            {\n",
    "                \"type\": \"image\",\n",
    "                \"image\": grouped_images[2],\n",
    "            },\n",
    "            {\"type\": \"text\", \"text\": text_query},\n",
    "        ],\n",
    "    }\n",
    "]"
   ]
  },
  {
   "cell_type": "code",
   "execution_count": 14,
   "id": "5735fb56-f9ad-4bcd-8e70-057b0844508a",
   "metadata": {},
   "outputs": [],
   "source": [
    "text = vl_model_processor.apply_chat_template(chat_template, tokenize=False, add_generation_prompt=True)"
   ]
  },
  {
   "cell_type": "code",
   "execution_count": null,
   "id": "4c18e39f-f6d2-4513-ac91-e462f171e566",
   "metadata": {},
   "outputs": [],
   "source": [
    "import torch\n",
    "\n",
    "# pick the right device\n",
    "if torch.cuda.is_available():\n",
    "    device = torch.device(\"cuda\")\n",
    "elif torch.backends.mps.is_available():   # Apple M1/M2 Metal support\n",
    "    device = torch.device(\"mps\")\n",
    "else:\n",
    "    device = torch.device(\"cpu\")\n",
    "\n",
    "from qwen_vl_utils import process_vision_info\n",
    "\n",
    "# 1) build your chat_template …\n",
    "image_inputs, _ = process_vision_info(chat_template)\n",
    "\n",
    "# …later, after you’ve created your `inputs` dict:\n",
    "inputs = vl_model_processor(\n",
    "    text=[text],\n",
    "    images=image_inputs,\n",
    "    padding=True,\n",
    "    return_tensors=\"pt\",\n",
    ")\n",
    "\n",
    "# move everything to the chosen device\n",
    "# BatchEncoding supports .to(), but if yours is a plain dict you can do:\n",
    "inputs = {k: v.to(device) for k, v in inputs.items()}\n",
    "\n",
    "# and make sure your model is on the same device:\n",
    "vl_model.to(device).eval()"
   ]
  },
  {
   "cell_type": "code",
   "execution_count": 23,
   "id": "ac5b3c65-65b6-4b8d-93d8-e156648bcb97",
   "metadata": {},
   "outputs": [],
   "source": [
    "generated_ids = vl_model.generate(**inputs, max_new_tokens=500)"
   ]
  },
  {
   "cell_type": "code",
   "execution_count": 24,
   "id": "9baefc10-0e63-45f9-8916-1c389cf39f6f",
   "metadata": {},
   "outputs": [],
   "source": [
    "# Strip off the prompt tokens from each sequence\n",
    "generated_ids_trimmed = [\n",
    "    out_ids[len(in_ids):]\n",
    "    for in_ids, out_ids in zip(inputs[\"input_ids\"], generated_ids)\n",
    "]\n",
    "\n",
    "# Decode the model’s answer\n",
    "output_text = vl_model_processor.batch_decode(\n",
    "    generated_ids_trimmed,\n",
    "    skip_special_tokens=True,\n",
    "    clean_up_tokenization_spaces=False\n",
    ")"
   ]
  },
  {
   "cell_type": "code",
   "execution_count": null,
   "id": "7f59558c-513f-46a6-859b-19c5aa11eda5",
   "metadata": {},
   "outputs": [],
   "source": [
    "print(output_text[0])"
   ]
  },
  {
   "cell_type": "code",
   "execution_count": 26,
   "id": "c4ce6873-33ff-49e1-9d21-bc80c18e8c7d",
   "metadata": {},
   "outputs": [],
   "source": [
    "import torch\n",
    "from qwen_vl_utils import process_vision_info\n",
    "\n",
    "def answer_with_multimodal_rag(\n",
    "    vl_model,\n",
    "    docs_retrieval_model,\n",
    "    vl_model_processor,\n",
    "    all_images,\n",
    "    text_query,\n",
    "    top_k=3,\n",
    "    max_new_tokens=200,\n",
    "):\n",
    "    print(f\"[INFO] running on {device}\")\n",
    "\n",
    "    # 2) ensure the VL model is on that device\n",
    "    vl_model.to(device).eval()\n",
    "\n",
    "    # 3) retrieve the top-K pages\n",
    "    results = docs_retrieval_model.search(text_query, k=top_k)\n",
    "    grouped_images = get_grouped_images(results, all_images)\n",
    "\n",
    "    # 4) build the chat template\n",
    "    chat_template = [\n",
    "        {\n",
    "            \"role\": \"user\",\n",
    "            \"content\": (\n",
    "                [{\"type\": \"image\", \"image\": img} for img in grouped_images]\n",
    "                + [{\"type\": \"text\",  \"text\": text_query}]\n",
    "            )\n",
    "        }\n",
    "    ]\n",
    "\n",
    "    # 5) tokenize text + process images\n",
    "    text = vl_model_processor.apply_chat_template(\n",
    "        chat_template,\n",
    "        tokenize=False,\n",
    "        add_generation_prompt=True\n",
    "    )\n",
    "    image_inputs, _ = process_vision_info(chat_template)\n",
    "    inputs = vl_model_processor(\n",
    "        text=[text],\n",
    "        images=image_inputs,\n",
    "        padding=True,\n",
    "        return_tensors=\"pt\"\n",
    "    )\n",
    "\n",
    "    # 6) move all tensor inputs to the chosen device\n",
    "    inputs = {k: v.to(device) for k, v in inputs.items()}\n",
    "\n",
    "    # 7) generate and decode\n",
    "    generated_ids = vl_model.generate(**inputs, max_new_tokens=max_new_tokens)\n",
    "    # strip off the prompt tokens\n",
    "    trimmed = [\n",
    "        out_ids[len(in_ids):]\n",
    "        for in_ids, out_ids in zip(inputs[\"input_ids\"], generated_ids)\n",
    "    ]\n",
    "    output = vl_model_processor.batch_decode(\n",
    "        trimmed,\n",
    "        skip_special_tokens=True,\n",
    "        clean_up_tokenization_spaces=False\n",
    "    )\n",
    "\n",
    "    return output"
   ]
  },
  {
   "cell_type": "code",
   "execution_count": null,
   "id": "e3e7e77a-ac84-4dc6-9a1d-34309c94217b",
   "metadata": {},
   "outputs": [],
   "source": [
    "output_text = answer_with_multimodal_rag(\n",
    "    vl_model=vl_model,\n",
    "    docs_retrieval_model=docs_retrieval_model,\n",
    "    vl_model_processor=vl_model_processor,\n",
    "    all_images=all_images,                       # <— pass the full images dict\n",
    "    text_query=\"How do I assemble the Micke desk?\",\n",
    "    top_k=3,\n",
    "    max_new_tokens=500,\n",
    ")\n",
    "print(output_text[0])"
   ]
  },
  {
   "cell_type": "code",
   "execution_count": null,
   "id": "71560ea5",
   "metadata": {},
   "outputs": [],
   "source": []
  },
  {
   "cell_type": "code",
   "execution_count": null,
   "id": "58e172da",
   "metadata": {},
   "outputs": [],
   "source": []
  }
 ],
 "metadata": {
  "kernelspec": {
   "display_name": "Python 3",
   "language": "python",
   "name": "python3"
  },
  "language_info": {
   "codemirror_mode": {
    "name": "ipython",
    "version": 3
   },
   "file_extension": ".py",
   "mimetype": "text/x-python",
   "name": "python",
   "nbconvert_exporter": "python",
   "pygments_lexer": "ipython3",
   "version": "3.12.0"
  },
  "widgets": {
   "application/vnd.jupyter.widget-state+json": {
    "state": {
     "00ee3a47f064400b83a00994054a5f2d": {
      "model_module": "@jupyter-widgets/controls",
      "model_module_version": "2.0.0",
      "model_name": "HTMLStyleModel",
      "state": {
       "description_width": "",
       "font_size": null,
       "text_color": null
      }
     },
     "011e587d0d5c4f52b39660a841d29dcf": {
      "model_module": "@jupyter-widgets/base",
      "model_module_version": "2.0.0",
      "model_name": "LayoutModel",
      "state": {}
     },
     "013932728f20438a8c3ea3ffd5252693": {
      "model_module": "@jupyter-widgets/base",
      "model_module_version": "2.0.0",
      "model_name": "LayoutModel",
      "state": {}
     },
     "05f75bc4e18d4d98a027875b8ce0feba": {
      "model_module": "@jupyter-widgets/controls",
      "model_module_version": "2.0.0",
      "model_name": "HTMLModel",
      "state": {
       "layout": "IPY_MODEL_aca3c46c970b41148249a780301fff18",
       "style": "IPY_MODEL_ff6c2b7ccf7e4409a7784922d0725025",
       "value": "model-00003-of-00005.safetensors: 100%"
      }
     },
     "0735e2f95e514a3da353427b3dafe9f7": {
      "model_module": "@jupyter-widgets/controls",
      "model_module_version": "2.0.0",
      "model_name": "HTMLModel",
      "state": {
       "layout": "IPY_MODEL_a10d76a0868649f8820c7e2302a48428",
       "style": "IPY_MODEL_b0d9f0653cd940b498919828f345ec1e",
       "value": " 17.8M/17.8M [00:01&lt;00:00, 11.8MB/s]"
      }
     },
     "077141647f874680ab03406f2adc82d6": {
      "model_module": "@jupyter-widgets/controls",
      "model_module_version": "2.0.0",
      "model_name": "HBoxModel",
      "state": {
       "children": [
        "IPY_MODEL_380e8c79d7aa4715a1fd3c0736be8afe",
        "IPY_MODEL_1fb304750d1c40c78a9812116a721ecc",
        "IPY_MODEL_1cfc40521e8b44989c81932a17fa577b"
       ],
       "layout": "IPY_MODEL_3fff6cdf4b1e499f88b2f7eaeb0480a6"
      }
     },
     "0797d5291ac142209aea0251066cf134": {
      "model_module": "@jupyter-widgets/base",
      "model_module_version": "2.0.0",
      "model_name": "LayoutModel",
      "state": {}
     },
     "07dc013c7e874e97b00bc93dd65059fd": {
      "model_module": "@jupyter-widgets/controls",
      "model_module_version": "2.0.0",
      "model_name": "HTMLStyleModel",
      "state": {
       "description_width": "",
       "font_size": null,
       "text_color": null
      }
     },
     "08431af69ec54cb6a2b5e38fe38223f1": {
      "model_module": "@jupyter-widgets/base",
      "model_module_version": "2.0.0",
      "model_name": "LayoutModel",
      "state": {}
     },
     "0878d0972deb4b91adb714881a08b7bb": {
      "model_module": "@jupyter-widgets/base",
      "model_module_version": "2.0.0",
      "model_name": "LayoutModel",
      "state": {}
     },
     "08b832ee8a7d40d8b262677c9adbff03": {
      "model_module": "@jupyter-widgets/controls",
      "model_module_version": "2.0.0",
      "model_name": "HBoxModel",
      "state": {
       "children": [
        "IPY_MODEL_2a4e86bd60294961b7c0e3662adefdec",
        "IPY_MODEL_94bf1a601b4442949bf81743a9673adf",
        "IPY_MODEL_e97c32a533dc424b8370904bb6efedfe"
       ],
       "layout": "IPY_MODEL_ee8c485639b14edeb975ce763c35c0e6"
      }
     },
     "0a2cfa9bd8d048389df06874bcf4dd43": {
      "model_module": "@jupyter-widgets/base",
      "model_module_version": "2.0.0",
      "model_name": "LayoutModel",
      "state": {}
     },
     "0a9b875360e94612ad4e6cb70cbcbfc0": {
      "model_module": "@jupyter-widgets/controls",
      "model_module_version": "2.0.0",
      "model_name": "ProgressStyleModel",
      "state": {
       "description_width": ""
      }
     },
     "0beeaf1028864776afb71c4b8a59699c": {
      "model_module": "@jupyter-widgets/controls",
      "model_module_version": "2.0.0",
      "model_name": "HTMLStyleModel",
      "state": {
       "description_width": "",
       "font_size": null,
       "text_color": null
      }
     },
     "0c004b65084e4d5d8f817eae0f9ec2ec": {
      "model_module": "@jupyter-widgets/controls",
      "model_module_version": "2.0.0",
      "model_name": "ProgressStyleModel",
      "state": {
       "description_width": ""
      }
     },
     "0ed64a5d87d441dc992ab3357dfa51c1": {
      "model_module": "@jupyter-widgets/controls",
      "model_module_version": "2.0.0",
      "model_name": "HTMLStyleModel",
      "state": {
       "description_width": "",
       "font_size": null,
       "text_color": null
      }
     },
     "0f1bf087b1d74eb8b8af5ee70157181a": {
      "model_module": "@jupyter-widgets/controls",
      "model_module_version": "2.0.0",
      "model_name": "HTMLStyleModel",
      "state": {
       "description_width": "",
       "font_size": null,
       "text_color": null
      }
     },
     "109c4bf7f1174e7a821f57d6ec703a14": {
      "model_module": "@jupyter-widgets/controls",
      "model_module_version": "2.0.0",
      "model_name": "HTMLModel",
      "state": {
       "layout": "IPY_MODEL_20e86dfeb6474237b96ef8b2fadfafcb",
       "style": "IPY_MODEL_9367882279154cbc9c6e2ba858b96b56",
       "value": "Downloading shards: 100%"
      }
     },
     "111c2ed4f4334fa088e07dae1be2fcff": {
      "model_module": "@jupyter-widgets/base",
      "model_module_version": "2.0.0",
      "model_name": "LayoutModel",
      "state": {}
     },
     "12138fd2f14a4c9b8a88af9e7ec7c55c": {
      "model_module": "@jupyter-widgets/base",
      "model_module_version": "2.0.0",
      "model_name": "LayoutModel",
      "state": {}
     },
     "121aece28c04490481d1cfb53598906b": {
      "model_module": "@jupyter-widgets/controls",
      "model_module_version": "2.0.0",
      "model_name": "HTMLStyleModel",
      "state": {
       "description_width": "",
       "font_size": null,
       "text_color": null
      }
     },
     "131dee6e3af841eb91a6f1ffe3fa6ce1": {
      "model_module": "@jupyter-widgets/base",
      "model_module_version": "2.0.0",
      "model_name": "LayoutModel",
      "state": {}
     },
     "1397812f9e0741f49f767952bd4edbbe": {
      "model_module": "@jupyter-widgets/base",
      "model_module_version": "2.0.0",
      "model_name": "LayoutModel",
      "state": {}
     },
     "14e21d0f5a5f4b35a9e3a07594c11c61": {
      "model_module": "@jupyter-widgets/controls",
      "model_module_version": "2.0.0",
      "model_name": "FloatProgressModel",
      "state": {
       "bar_style": "success",
       "layout": "IPY_MODEL_fc6b36638a054fe0bb19e2a75ec3e6de",
       "max": 5,
       "style": "IPY_MODEL_1be5e29b01fe4c98ac14841437d316fc",
       "value": 5
      }
     },
     "150d58cd873d4c5e8bdaa9420d8d98d9": {
      "model_module": "@jupyter-widgets/controls",
      "model_module_version": "2.0.0",
      "model_name": "HTMLStyleModel",
      "state": {
       "description_width": "",
       "font_size": null,
       "text_color": null
      }
     },
     "15f3034c14a348d5b8578a09cb8f94aa": {
      "model_module": "@jupyter-widgets/controls",
      "model_module_version": "2.0.0",
      "model_name": "HTMLModel",
      "state": {
       "layout": "IPY_MODEL_71d20c3467a649be8aab998cb2c98ece",
       "style": "IPY_MODEL_b17e00109bd04bbb9155438c63902aea",
       "value": " 243k/243k [00:00&lt;00:00, 13.3MB/s]"
      }
     },
     "17138eb3b37f435ba2c1beda9c0fd5ed": {
      "model_module": "@jupyter-widgets/base",
      "model_module_version": "2.0.0",
      "model_name": "LayoutModel",
      "state": {}
     },
     "18b99ff91904418cb32b0c7e49ba2933": {
      "model_module": "@jupyter-widgets/controls",
      "model_module_version": "2.0.0",
      "model_name": "HTMLModel",
      "state": {
       "layout": "IPY_MODEL_013932728f20438a8c3ea3ffd5252693",
       "style": "IPY_MODEL_ce9b6cbd26fd4f16b5801bf159dae9b9",
       "value": " 1.20k/1.20k [00:00&lt;00:00, 280kB/s]"
      }
     },
     "19cceec9f5c6414ca6db86ebf1570edb": {
      "model_module": "@jupyter-widgets/controls",
      "model_module_version": "2.0.0",
      "model_name": "HTMLStyleModel",
      "state": {
       "description_width": "",
       "font_size": null,
       "text_color": null
      }
     },
     "1a395c80a01743d3b497cd03c5b4a85c": {
      "model_module": "@jupyter-widgets/controls",
      "model_module_version": "2.0.0",
      "model_name": "HTMLStyleModel",
      "state": {
       "description_width": "",
       "font_size": null,
       "text_color": null
      }
     },
     "1a67eed19b7642cc86a4d90f7799305c": {
      "model_module": "@jupyter-widgets/controls",
      "model_module_version": "2.0.0",
      "model_name": "HTMLStyleModel",
      "state": {
       "description_width": "",
       "font_size": null,
       "text_color": null
      }
     },
     "1b6bd35c7a6d4dbfb1f4a742f747f2a9": {
      "model_module": "@jupyter-widgets/base",
      "model_module_version": "2.0.0",
      "model_name": "LayoutModel",
      "state": {}
     },
     "1bc4336c174a467ebd3db5b6095514eb": {
      "model_module": "@jupyter-widgets/base",
      "model_module_version": "2.0.0",
      "model_name": "LayoutModel",
      "state": {}
     },
     "1be5e29b01fe4c98ac14841437d316fc": {
      "model_module": "@jupyter-widgets/controls",
      "model_module_version": "2.0.0",
      "model_name": "ProgressStyleModel",
      "state": {
       "description_width": ""
      }
     },
     "1cfc40521e8b44989c81932a17fa577b": {
      "model_module": "@jupyter-widgets/controls",
      "model_module_version": "2.0.0",
      "model_name": "HTMLModel",
      "state": {
       "layout": "IPY_MODEL_5edcccc4167f4661809a2d97eea06f76",
       "style": "IPY_MODEL_a93790b0469945608a8e4d2ca435a08d",
       "value": " 700/700 [00:00&lt;00:00, 170kB/s]"
      }
     },
     "1e224da6fd1148ea8f882bbb94437ea9": {
      "model_module": "@jupyter-widgets/controls",
      "model_module_version": "2.0.0",
      "model_name": "HTMLModel",
      "state": {
       "layout": "IPY_MODEL_7017e0bf32df4f37bade08ba7fb62adf",
       "style": "IPY_MODEL_7f898a53c14947faa66a8b59acd2615d",
       "value": " 7.03M/7.03M [00:00&lt;00:00, 11.8MB/s]"
      }
     },
     "1e2e7a39bc6741838c48f179c239d968": {
      "model_module": "@jupyter-widgets/base",
      "model_module_version": "2.0.0",
      "model_name": "LayoutModel",
      "state": {}
     },
     "1e30e6370e7249cd8e545e807164041d": {
      "model_module": "@jupyter-widgets/base",
      "model_module_version": "2.0.0",
      "model_name": "LayoutModel",
      "state": {}
     },
     "1fb304750d1c40c78a9812116a721ecc": {
      "model_module": "@jupyter-widgets/controls",
      "model_module_version": "2.0.0",
      "model_name": "FloatProgressModel",
      "state": {
       "bar_style": "success",
       "layout": "IPY_MODEL_4313ea1e69bb43cba9b1e13e67aea17f",
       "max": 700,
       "style": "IPY_MODEL_9cbba251387141a8a9c0f4e9d82c0f14",
       "value": 700
      }
     },
     "20401715debc49689c530c46e2be006b": {
      "model_module": "@jupyter-widgets/controls",
      "model_module_version": "2.0.0",
      "model_name": "HBoxModel",
      "state": {
       "children": [
        "IPY_MODEL_6246b48380e948509ecae7e2b00f47b6",
        "IPY_MODEL_2bbb479a019a44109a5e6cf946d6bfbf",
        "IPY_MODEL_cb73f6d0f2f848c8bed50273ae810450"
       ],
       "layout": "IPY_MODEL_a45ac87f78e64d10ada61d7f1c06f286"
      }
     },
     "20e86dfeb6474237b96ef8b2fadfafcb": {
      "model_module": "@jupyter-widgets/base",
      "model_module_version": "2.0.0",
      "model_name": "LayoutModel",
      "state": {}
     },
     "2391b88c85a644728f2f40a888792fa5": {
      "model_module": "@jupyter-widgets/base",
      "model_module_version": "2.0.0",
      "model_name": "LayoutModel",
      "state": {}
     },
     "23e7401f026d495388cfb829f5c411c1": {
      "model_module": "@jupyter-widgets/controls",
      "model_module_version": "2.0.0",
      "model_name": "ProgressStyleModel",
      "state": {
       "description_width": ""
      }
     },
     "24769c6dd9544f9ba7704e2bb119f069": {
      "model_module": "@jupyter-widgets/base",
      "model_module_version": "2.0.0",
      "model_name": "LayoutModel",
      "state": {}
     },
     "256db899e9e04bbdb79fc7605b4d400c": {
      "model_module": "@jupyter-widgets/base",
      "model_module_version": "2.0.0",
      "model_name": "LayoutModel",
      "state": {}
     },
     "258ddf8643c0441699857cad680d4f25": {
      "model_module": "@jupyter-widgets/controls",
      "model_module_version": "2.0.0",
      "model_name": "HTMLModel",
      "state": {
       "layout": "IPY_MODEL_2ef95fe166434d19b72d2db624e23717",
       "style": "IPY_MODEL_3a7ff099ad6d4008bd86e6e02b2d4953",
       "value": " 78.6M/78.6M [00:07&lt;00:00, 10.7MB/s]"
      }
     },
     "25f51776f9e14201ae7828ec100f4a4e": {
      "model_module": "@jupyter-widgets/controls",
      "model_module_version": "2.0.0",
      "model_name": "HBoxModel",
      "state": {
       "children": [
        "IPY_MODEL_f515cecb6c9b4e45b897ebc8c4c1fa6c",
        "IPY_MODEL_91eb8801b9824f5aa5a074b27e0b3bf0",
        "IPY_MODEL_352d079f9ded425cb58289664b232e32"
       ],
       "layout": "IPY_MODEL_eb293d6f1af94db3808dea59b40ce60b"
      }
     },
     "26470f1165b041c2a094e32d0fb7e5a1": {
      "model_module": "@jupyter-widgets/controls",
      "model_module_version": "2.0.0",
      "model_name": "FloatProgressModel",
      "state": {
       "bar_style": "success",
       "layout": "IPY_MODEL_6ec30767edf6411b8813b20ef8d8b44e",
       "max": 4986817288,
       "style": "IPY_MODEL_d78108fe57e64eaabd43322bda8226f9",
       "value": 4986817288
      }
     },
     "26afee5fd20a40e4a1064aac7595c39f": {
      "model_module": "@jupyter-widgets/base",
      "model_module_version": "2.0.0",
      "model_name": "LayoutModel",
      "state": {}
     },
     "26bb23188cdf46f7b2145838b58bb9ef": {
      "model_module": "@jupyter-widgets/controls",
      "model_module_version": "2.0.0",
      "model_name": "HTMLModel",
      "state": {
       "layout": "IPY_MODEL_98fe9eb8607d4df3ba3e45708c146faf",
       "style": "IPY_MODEL_de193e5ffe214569898776b24d3237e8",
       "value": "model-00001-of-00005.safetensors: 100%"
      }
     },
     "291c9603a99248c0aaa9bfbdac76b24b": {
      "model_module": "@jupyter-widgets/base",
      "model_module_version": "2.0.0",
      "model_name": "LayoutModel",
      "state": {}
     },
     "2a4e86bd60294961b7c0e3662adefdec": {
      "model_module": "@jupyter-widgets/controls",
      "model_module_version": "2.0.0",
      "model_name": "HTMLModel",
      "state": {
       "layout": "IPY_MODEL_a5155a9a83394afab6ab9dd2f2a56691",
       "style": "IPY_MODEL_f47f4d4cb835403db52f2c76f6031ecc",
       "value": "model-00002-of-00002.safetensors: 100%"
      }
     },
     "2ae75dfd5e6c4bdc9439edae756e3b1f": {
      "model_module": "@jupyter-widgets/controls",
      "model_module_version": "2.0.0",
      "model_name": "HTMLModel",
      "state": {
       "layout": "IPY_MODEL_cc57984ea41a43dbb77706ce3084d87e",
       "style": "IPY_MODEL_2c01b3c344bd4cf4bce298cd720df3ac",
       "value": "vocab.json: 100%"
      }
     },
     "2ba5b12e44424f189a6889917215b285": {
      "model_module": "@jupyter-widgets/controls",
      "model_module_version": "2.0.0",
      "model_name": "FloatProgressModel",
      "state": {
       "bar_style": "success",
       "layout": "IPY_MODEL_291c9603a99248c0aaa9bfbdac76b24b",
       "max": 2,
       "style": "IPY_MODEL_c1f08a6c359e493c9316c2cd0e0cc0c8",
       "value": 2
      }
     },
     "2bbb479a019a44109a5e6cf946d6bfbf": {
      "model_module": "@jupyter-widgets/controls",
      "model_module_version": "2.0.0",
      "model_name": "FloatProgressModel",
      "state": {
       "bar_style": "success",
       "layout": "IPY_MODEL_53b6760346474d16af3ef7d7b1fa57dd",
       "max": 1089994880,
       "style": "IPY_MODEL_e6f9c6fa4c7240eb9690ed1c233107a3",
       "value": 1089994880
      }
     },
     "2c01b3c344bd4cf4bce298cd720df3ac": {
      "model_module": "@jupyter-widgets/controls",
      "model_module_version": "2.0.0",
      "model_name": "HTMLStyleModel",
      "state": {
       "description_width": "",
       "font_size": null,
       "text_color": null
      }
     },
     "2cb1bb29424847199a9aee1fee514131": {
      "model_module": "@jupyter-widgets/controls",
      "model_module_version": "2.0.0",
      "model_name": "FloatProgressModel",
      "state": {
       "bar_style": "success",
       "layout": "IPY_MODEL_aa5598591c4242b6a43d76d58ba3a781",
       "max": 3864726320,
       "style": "IPY_MODEL_7b4aab0c5723463aa800cf8ed28b9db9",
       "value": 3864726320
      }
     },
     "2ef95fe166434d19b72d2db624e23717": {
      "model_module": "@jupyter-widgets/base",
      "model_module_version": "2.0.0",
      "model_name": "LayoutModel",
      "state": {}
     },
     "2f4e310dfa5f4618b8212e1a42cb4431": {
      "model_module": "@jupyter-widgets/controls",
      "model_module_version": "2.0.0",
      "model_name": "FloatProgressModel",
      "state": {
       "bar_style": "success",
       "layout": "IPY_MODEL_5c8503d3f74a41b99806a77ca877a19b",
       "max": 7029741,
       "style": "IPY_MODEL_9496b9a40a3b41d7b9a36eb13534e73f",
       "value": 7029741
      }
     },
     "2fb0e02646db46ccb693509a3f023ce6": {
      "model_module": "@jupyter-widgets/controls",
      "model_module_version": "2.0.0",
      "model_name": "FloatProgressModel",
      "state": {
       "bar_style": "success",
       "layout": "IPY_MODEL_6f05905e71874ebdaea5c9bfbd294a11",
       "max": 66301,
       "style": "IPY_MODEL_3145265cb52f4073abd5f37a64ba4146",
       "value": 66301
      }
     },
     "314486c990a944a2a272ed8baebf4a31": {
      "model_module": "@jupyter-widgets/base",
      "model_module_version": "2.0.0",
      "model_name": "LayoutModel",
      "state": {}
     },
     "3145265cb52f4073abd5f37a64ba4146": {
      "model_module": "@jupyter-widgets/controls",
      "model_module_version": "2.0.0",
      "model_name": "ProgressStyleModel",
      "state": {
       "description_width": ""
      }
     },
     "321ecc692f3540a784afdf4fe1757a3d": {
      "model_module": "@jupyter-widgets/controls",
      "model_module_version": "2.0.0",
      "model_name": "HTMLStyleModel",
      "state": {
       "description_width": "",
       "font_size": null,
       "text_color": null
      }
     },
     "3264c584d37c465392b6c6d3fe81948a": {
      "model_module": "@jupyter-widgets/controls",
      "model_module_version": "2.0.0",
      "model_name": "HBoxModel",
      "state": {
       "children": [
        "IPY_MODEL_26bb23188cdf46f7b2145838b58bb9ef",
        "IPY_MODEL_7d90a9b393984138b49b03cc426231fe",
        "IPY_MODEL_4262093ca38a4bd5941ea7979e1b4e93"
       ],
       "layout": "IPY_MODEL_f7bc9b4390d04c2ab1a29c4523b79d24"
      }
     },
     "32792141e7724a8da4a9db065e25332c": {
      "model_module": "@jupyter-widgets/controls",
      "model_module_version": "2.0.0",
      "model_name": "HTMLStyleModel",
      "state": {
       "description_width": "",
       "font_size": null,
       "text_color": null
      }
     },
     "339adcc3b2da4b17b9093df0e81eac29": {
      "model_module": "@jupyter-widgets/controls",
      "model_module_version": "2.0.0",
      "model_name": "ProgressStyleModel",
      "state": {
       "description_width": ""
      }
     },
     "33e514d2cacc44aa96546679329802c3": {
      "model_module": "@jupyter-widgets/controls",
      "model_module_version": "2.0.0",
      "model_name": "FloatProgressModel",
      "state": {
       "bar_style": "success",
       "layout": "IPY_MODEL_944541b7f6504bdcacd5f78d2ee5b088",
       "max": 1015,
       "style": "IPY_MODEL_0c004b65084e4d5d8f817eae0f9ec2ec",
       "value": 1015
      }
     },
     "34b6a0a583d2424e8c8958bca5e37ac5": {
      "model_module": "@jupyter-widgets/controls",
      "model_module_version": "2.0.0",
      "model_name": "ProgressStyleModel",
      "state": {
       "description_width": ""
      }
     },
     "34f8436436464b0db1f9fda8e6ccee72": {
      "model_module": "@jupyter-widgets/base",
      "model_module_version": "2.0.0",
      "model_name": "LayoutModel",
      "state": {}
     },
     "352d079f9ded425cb58289664b232e32": {
      "model_module": "@jupyter-widgets/controls",
      "model_module_version": "2.0.0",
      "model_name": "HTMLModel",
      "state": {
       "layout": "IPY_MODEL_7312f3331f9d41fdad96a92db1e34244",
       "style": "IPY_MODEL_0beeaf1028864776afb71c4b8a59699c",
       "value": " 750/750 [00:00&lt;00:00, 123kB/s]"
      }
     },
     "36f0547649de4b18a3ca44d66de2f94f": {
      "model_module": "@jupyter-widgets/base",
      "model_module_version": "2.0.0",
      "model_name": "LayoutModel",
      "state": {}
     },
     "380e8c79d7aa4715a1fd3c0736be8afe": {
      "model_module": "@jupyter-widgets/controls",
      "model_module_version": "2.0.0",
      "model_name": "HTMLModel",
      "state": {
       "layout": "IPY_MODEL_a08ecbfdd08043c49eb3aa94f9c47100",
       "style": "IPY_MODEL_ccdbb1f521bc48c6b730d60b9b376544",
       "value": "preprocessor_config.json: 100%"
      }
     },
     "38ddcb88da6741d19ce4ce1b619f83a9": {
      "model_module": "@jupyter-widgets/controls",
      "model_module_version": "2.0.0",
      "model_name": "HTMLModel",
      "state": {
       "layout": "IPY_MODEL_011e587d0d5c4f52b39660a841d29dcf",
       "style": "IPY_MODEL_0f1bf087b1d74eb8b8af5ee70157181a",
       "value": " 2/2 [09:30&lt;00:00, 250.13s/it]"
      }
     },
     "39b08449baa446d3a81b0977b8343da8": {
      "model_module": "@jupyter-widgets/controls",
      "model_module_version": "2.0.0",
      "model_name": "HTMLModel",
      "state": {
       "layout": "IPY_MODEL_f90097399301490d9c798dedefd62c4e",
       "style": "IPY_MODEL_7e5a6ac447fc4eb78b86e7218dc3ba04",
       "value": " 2/2 [00:17&lt;00:00,  7.91s/it]"
      }
     },
     "3a1426c9631241b28e5355ffcc63f72f": {
      "model_module": "@jupyter-widgets/base",
      "model_module_version": "2.0.0",
      "model_name": "LayoutModel",
      "state": {}
     },
     "3a1945c583f845969cca34d6b7177be1": {
      "model_module": "@jupyter-widgets/controls",
      "model_module_version": "2.0.0",
      "model_name": "ProgressStyleModel",
      "state": {
       "description_width": ""
      }
     },
     "3a5ba8de6d8049538dfcda1e5f1140ba": {
      "model_module": "@jupyter-widgets/base",
      "model_module_version": "2.0.0",
      "model_name": "LayoutModel",
      "state": {}
     },
     "3a7ff099ad6d4008bd86e6e02b2d4953": {
      "model_module": "@jupyter-widgets/controls",
      "model_module_version": "2.0.0",
      "model_name": "HTMLStyleModel",
      "state": {
       "description_width": "",
       "font_size": null,
       "text_color": null
      }
     },
     "3b6b767f597d44fb9bcb79682ce75c4f": {
      "model_module": "@jupyter-widgets/base",
      "model_module_version": "2.0.0",
      "model_name": "LayoutModel",
      "state": {}
     },
     "3d0a2879929048e89fc5ee27bdaa7a1a": {
      "model_module": "@jupyter-widgets/base",
      "model_module_version": "2.0.0",
      "model_name": "LayoutModel",
      "state": {}
     },
     "3e6c518618a540669a02de5a42b02c1f": {
      "model_module": "@jupyter-widgets/controls",
      "model_module_version": "2.0.0",
      "model_name": "HTMLModel",
      "state": {
       "layout": "IPY_MODEL_f3dfd27a997b4e618108786e90583ed0",
       "style": "IPY_MODEL_b19ba4328a7240b7bf2ec7c512900fee",
       "value": "Loading checkpoint shards: 100%"
      }
     },
     "3fff6cdf4b1e499f88b2f7eaeb0480a6": {
      "model_module": "@jupyter-widgets/base",
      "model_module_version": "2.0.0",
      "model_name": "LayoutModel",
      "state": {}
     },
     "410acedc8f1c4d9da1511d0de297f45f": {
      "model_module": "@jupyter-widgets/controls",
      "model_module_version": "2.0.0",
      "model_name": "FloatProgressModel",
      "state": {
       "bar_style": "success",
       "layout": "IPY_MODEL_59cb5f6570014d4682852f63464f3786",
       "max": 56470,
       "style": "IPY_MODEL_5d179ac060b94ec9a11fdfb9404ecb3e",
       "value": 56470
      }
     },
     "413691edeb7c40ba9e1420c4bd003763": {
      "model_module": "@jupyter-widgets/controls",
      "model_module_version": "2.0.0",
      "model_name": "HTMLStyleModel",
      "state": {
       "description_width": "",
       "font_size": null,
       "text_color": null
      }
     },
     "41b9204cb5ae4e89849d54bb259c65b6": {
      "model_module": "@jupyter-widgets/controls",
      "model_module_version": "2.0.0",
      "model_name": "HTMLModel",
      "state": {
       "layout": "IPY_MODEL_d6b34609c1d64aa9a86a8368cad26b84",
       "style": "IPY_MODEL_96c1e5d985614368b9a51a70a2db8335",
       "value": " 4.19k/4.19k [00:00&lt;00:00, 1.28MB/s]"
      }
     },
     "41f81599f0104b74a7355ae01aeb4aef": {
      "model_module": "@jupyter-widgets/controls",
      "model_module_version": "2.0.0",
      "model_name": "ProgressStyleModel",
      "state": {
       "description_width": ""
      }
     },
     "4262093ca38a4bd5941ea7979e1b4e93": {
      "model_module": "@jupyter-widgets/controls",
      "model_module_version": "2.0.0",
      "model_name": "HTMLModel",
      "state": {
       "layout": "IPY_MODEL_a7b4f19e29d0424e80827f7ad515c2bd",
       "style": "IPY_MODEL_667a385d36b742be97ab34c2c9bf4928",
       "value": " 3.90G/3.90G [06:06&lt;00:00, 10.7MB/s]"
      }
     },
     "429d5a10d5cd4c548b19343e19b2b764": {
      "model_module": "@jupyter-widgets/controls",
      "model_module_version": "2.0.0",
      "model_name": "HBoxModel",
      "state": {
       "children": [
        "IPY_MODEL_6e3789fee6ef46e1829b88d33cf24ece",
        "IPY_MODEL_33e514d2cacc44aa96546679329802c3",
        "IPY_MODEL_4afbfe5662cb498fa5abe9abc6837c11"
       ],
       "layout": "IPY_MODEL_36f0547649de4b18a3ca44d66de2f94f"
      }
     },
     "4313ea1e69bb43cba9b1e13e67aea17f": {
      "model_module": "@jupyter-widgets/base",
      "model_module_version": "2.0.0",
      "model_name": "LayoutModel",
      "state": {}
     },
     "47d16997aad841d992faecb05121b593": {
      "model_module": "@jupyter-widgets/controls",
      "model_module_version": "2.0.0",
      "model_name": "FloatProgressModel",
      "state": {
       "bar_style": "success",
       "layout": "IPY_MODEL_1e30e6370e7249cd8e545e807164041d",
       "max": 4190,
       "style": "IPY_MODEL_496b1d968bb8463095df7df2ac804cbf",
       "value": 4190
      }
     },
     "4962c916d7de47ed91da67273310e8de": {
      "model_module": "@jupyter-widgets/controls",
      "model_module_version": "2.0.0",
      "model_name": "HBoxModel",
      "state": {
       "children": [
        "IPY_MODEL_ff5ee05da3ed4d098298c01ea8ef41a2",
        "IPY_MODEL_f5786db5cdab4cd195716f3e309e6ccd",
        "IPY_MODEL_874bbb2e40964cb195c908be162a0fa3"
       ],
       "layout": "IPY_MODEL_6788983430be4a638eca5636fd6bfa7d"
      }
     },
     "496b1d968bb8463095df7df2ac804cbf": {
      "model_module": "@jupyter-widgets/controls",
      "model_module_version": "2.0.0",
      "model_name": "ProgressStyleModel",
      "state": {
       "description_width": ""
      }
     },
     "4afbfe5662cb498fa5abe9abc6837c11": {
      "model_module": "@jupyter-widgets/controls",
      "model_module_version": "2.0.0",
      "model_name": "HTMLModel",
      "state": {
       "layout": "IPY_MODEL_593b62a3bfb84bdbab8908c2d6afb8eb",
       "style": "IPY_MODEL_ef08ca456ba14fffa9f54655ad29e791",
       "value": " 1.01k/1.01k [00:00&lt;00:00, 190kB/s]"
      }
     },
     "4bdef13c819b427aa8a21e7a234b9f71": {
      "model_module": "@jupyter-widgets/controls",
      "model_module_version": "2.0.0",
      "model_name": "HBoxModel",
      "state": {
       "children": [
        "IPY_MODEL_b7a027ba38d849a09148d72c0aa415b2",
        "IPY_MODEL_2f4e310dfa5f4618b8212e1a42cb4431",
        "IPY_MODEL_1e224da6fd1148ea8f882bbb94437ea9"
       ],
       "layout": "IPY_MODEL_24769c6dd9544f9ba7704e2bb119f069"
      }
     },
     "4c24b67d62954a5e981d17df4b643125": {
      "model_module": "@jupyter-widgets/controls",
      "model_module_version": "2.0.0",
      "model_name": "ProgressStyleModel",
      "state": {
       "description_width": ""
      }
     },
     "4d9009fa6c2d4b4dbeeb0e0e1ad8f97d": {
      "model_module": "@jupyter-widgets/controls",
      "model_module_version": "2.0.0",
      "model_name": "HTMLStyleModel",
      "state": {
       "description_width": "",
       "font_size": null,
       "text_color": null
      }
     },
     "4e153b4f122842a1b59de3f8bf3e7834": {
      "model_module": "@jupyter-widgets/base",
      "model_module_version": "2.0.0",
      "model_name": "LayoutModel",
      "state": {}
     },
     "4e6fbd75b258425d81f2ef6e7dc5b456": {
      "model_module": "@jupyter-widgets/controls",
      "model_module_version": "2.0.0",
      "model_name": "HBoxModel",
      "state": {
       "children": [
        "IPY_MODEL_e3258849cd574db79cf06510c3b7968f",
        "IPY_MODEL_26470f1165b041c2a094e32d0fb7e5a1",
        "IPY_MODEL_e4d79f4e88774cefa03709e489798bda"
       ],
       "layout": "IPY_MODEL_256db899e9e04bbdb79fc7605b4d400c"
      }
     },
     "50c5db4957bd4f75ac7f829d4f162b9b": {
      "model_module": "@jupyter-widgets/base",
      "model_module_version": "2.0.0",
      "model_name": "LayoutModel",
      "state": {}
     },
     "51edbcc3758c4e708e9099a51f9e758c": {
      "model_module": "@jupyter-widgets/controls",
      "model_module_version": "2.0.0",
      "model_name": "HBoxModel",
      "state": {
       "children": [
        "IPY_MODEL_7c835ca502c84c62805b77f3af28a09c",
        "IPY_MODEL_c4880327d15b465e836a38a078eeda96",
        "IPY_MODEL_0735e2f95e514a3da353427b3dafe9f7"
       ],
       "layout": "IPY_MODEL_9bd904639480462b9db656f63ab49a73"
      }
     },
     "5200cb98b3ab47a89625eaac4de791c2": {
      "model_module": "@jupyter-widgets/controls",
      "model_module_version": "2.0.0",
      "model_name": "FloatProgressModel",
      "state": {
       "bar_style": "success",
       "layout": "IPY_MODEL_1397812f9e0741f49f767952bd4edbbe",
       "max": 2776833,
       "style": "IPY_MODEL_7df15a98c90145e7a41263689716d7f1",
       "value": 2776833
      }
     },
     "52c18c056fe64bb8b29f5408b36d3ad5": {
      "model_module": "@jupyter-widgets/controls",
      "model_module_version": "2.0.0",
      "model_name": "HBoxModel",
      "state": {
       "children": [
        "IPY_MODEL_56258500956840e8a7a9a4289d6b4a78",
        "IPY_MODEL_fd2d13f77f744e2fa5536204d85bb156",
        "IPY_MODEL_8d530dd935b44c5fbc8224a6dedd317e"
       ],
       "layout": "IPY_MODEL_bfb3ad518e2e41aeba87368196a70902"
      }
     },
     "53b6760346474d16af3ef7d7b1fa57dd": {
      "model_module": "@jupyter-widgets/base",
      "model_module_version": "2.0.0",
      "model_name": "LayoutModel",
      "state": {}
     },
     "5452f0ff748c40f99b9cbedb78eeaa64": {
      "model_module": "@jupyter-widgets/controls",
      "model_module_version": "2.0.0",
      "model_name": "FloatProgressModel",
      "state": {
       "bar_style": "success",
       "layout": "IPY_MODEL_7fa034b70fc34114b6f3631e88062b6f",
       "max": 733,
       "style": "IPY_MODEL_4c24b67d62954a5e981d17df4b643125",
       "value": 733
      }
     },
     "54d093615f3341bc93560fa2e663e649": {
      "model_module": "@jupyter-widgets/base",
      "model_module_version": "2.0.0",
      "model_name": "LayoutModel",
      "state": {}
     },
     "56040d93eb9940bf9622828adeb3580d": {
      "model_module": "@jupyter-widgets/controls",
      "model_module_version": "2.0.0",
      "model_name": "FloatProgressModel",
      "state": {
       "bar_style": "success",
       "layout": "IPY_MODEL_bba15262ef0e4941857b44d5bbd79123",
       "max": 2,
       "style": "IPY_MODEL_ac77887dedb84324ab6411760da36993",
       "value": 2
      }
     },
     "56258500956840e8a7a9a4289d6b4a78": {
      "model_module": "@jupyter-widgets/controls",
      "model_module_version": "2.0.0",
      "model_name": "HTMLModel",
      "state": {
       "layout": "IPY_MODEL_ebf51a204a2f40d78dc58faae5d18fb6",
       "style": "IPY_MODEL_c7b2869b5e3f442d9b2fc46bd6a32f1b",
       "value": "preprocessor_config.json: 100%"
      }
     },
     "56ed8b2ae9664af98fe3b5a863a38be4": {
      "model_module": "@jupyter-widgets/base",
      "model_module_version": "2.0.0",
      "model_name": "LayoutModel",
      "state": {}
     },
     "58485b9988a8452fb00d5df876dc5815": {
      "model_module": "@jupyter-widgets/controls",
      "model_module_version": "2.0.0",
      "model_name": "HTMLModel",
      "state": {
       "layout": "IPY_MODEL_9287b6d9b37649b29dc0ced2934292a4",
       "style": "IPY_MODEL_afe14495344c42c685384a1bb2def8e9",
       "value": " 56.5k/56.5k [00:00&lt;00:00, 6.11MB/s]"
      }
     },
     "58dfee4bf3dc409b926057aed4db54c7": {
      "model_module": "@jupyter-widgets/controls",
      "model_module_version": "2.0.0",
      "model_name": "HTMLModel",
      "state": {
       "layout": "IPY_MODEL_fe109a0a062a48279d97cd97282b7fac",
       "style": "IPY_MODEL_a333fe28dc0442b59d2ae774135df0d7",
       "value": "merges.txt: 100%"
      }
     },
     "58fb50ff20d446978f0397366de00e16": {
      "model_module": "@jupyter-widgets/controls",
      "model_module_version": "2.0.0",
      "model_name": "HTMLStyleModel",
      "state": {
       "description_width": "",
       "font_size": null,
       "text_color": null
      }
     },
     "593b62a3bfb84bdbab8908c2d6afb8eb": {
      "model_module": "@jupyter-widgets/base",
      "model_module_version": "2.0.0",
      "model_name": "LayoutModel",
      "state": {}
     },
     "59cb5f6570014d4682852f63464f3786": {
      "model_module": "@jupyter-widgets/base",
      "model_module_version": "2.0.0",
      "model_name": "LayoutModel",
      "state": {}
     },
     "5ab34927f9a74516ba317824f4cec1ca": {
      "model_module": "@jupyter-widgets/controls",
      "model_module_version": "2.0.0",
      "model_name": "HTMLStyleModel",
      "state": {
       "description_width": "",
       "font_size": null,
       "text_color": null
      }
     },
     "5c03b04a84f647699de1ef91337ece36": {
      "model_module": "@jupyter-widgets/controls",
      "model_module_version": "2.0.0",
      "model_name": "HBoxModel",
      "state": {
       "children": [
        "IPY_MODEL_05f75bc4e18d4d98a027875b8ce0feba",
        "IPY_MODEL_fcf793472d874d7890cba1df08f18da7",
        "IPY_MODEL_a9ba390761874d2e9abc15a92bc7e7fd"
       ],
       "layout": "IPY_MODEL_c9db8b6eb1ee400298375fd28d91289b"
      }
     },
     "5c8503d3f74a41b99806a77ca877a19b": {
      "model_module": "@jupyter-widgets/base",
      "model_module_version": "2.0.0",
      "model_name": "LayoutModel",
      "state": {}
     },
     "5d179ac060b94ec9a11fdfb9404ecb3e": {
      "model_module": "@jupyter-widgets/controls",
      "model_module_version": "2.0.0",
      "model_name": "ProgressStyleModel",
      "state": {
       "description_width": ""
      }
     },
     "5e0ba6658bd74c7797fcccdb237292a0": {
      "model_module": "@jupyter-widgets/controls",
      "model_module_version": "2.0.0",
      "model_name": "ProgressStyleModel",
      "state": {
       "description_width": ""
      }
     },
     "5e74611673144678814dac7a23923854": {
      "model_module": "@jupyter-widgets/controls",
      "model_module_version": "2.0.0",
      "model_name": "HTMLStyleModel",
      "state": {
       "description_width": "",
       "font_size": null,
       "text_color": null
      }
     },
     "5edcccc4167f4661809a2d97eea06f76": {
      "model_module": "@jupyter-widgets/base",
      "model_module_version": "2.0.0",
      "model_name": "LayoutModel",
      "state": {}
     },
     "6181b7724a614c8b9c6639a2564b2803": {
      "model_module": "@jupyter-widgets/controls",
      "model_module_version": "2.0.0",
      "model_name": "FloatProgressModel",
      "state": {
       "bar_style": "success",
       "layout": "IPY_MODEL_2391b88c85a644728f2f40a888792fa5",
       "max": 5,
       "style": "IPY_MODEL_735c3b36794a4c89820056eaf30783ad",
       "value": 5
      }
     },
     "619b1fca3b6143b9a06933ac6269acc9": {
      "model_module": "@jupyter-widgets/controls",
      "model_module_version": "2.0.0",
      "model_name": "HTMLModel",
      "state": {
       "layout": "IPY_MODEL_b8122ece673b4bf3afe2b807ebfd65b1",
       "style": "IPY_MODEL_6454c8eca88d4737a172be267a43aebf",
       "value": "tokenizer_config.json: 100%"
      }
     },
     "6246b48380e948509ecae7e2b00f47b6": {
      "model_module": "@jupyter-widgets/controls",
      "model_module_version": "2.0.0",
      "model_name": "HTMLModel",
      "state": {
       "layout": "IPY_MODEL_e4dff3bfc9b04e748bd3bae29f334f6a",
       "style": "IPY_MODEL_e5319a9fc4c848128c1a19e9efeb102a",
       "value": "model-00005-of-00005.safetensors: 100%"
      }
     },
     "6454c8eca88d4737a172be267a43aebf": {
      "model_module": "@jupyter-widgets/controls",
      "model_module_version": "2.0.0",
      "model_name": "HTMLStyleModel",
      "state": {
       "description_width": "",
       "font_size": null,
       "text_color": null
      }
     },
     "65a86e6da8774510b6776c48a9cee75e": {
      "model_module": "@jupyter-widgets/controls",
      "model_module_version": "2.0.0",
      "model_name": "HTMLStyleModel",
      "state": {
       "description_width": "",
       "font_size": null,
       "text_color": null
      }
     },
     "667a385d36b742be97ab34c2c9bf4928": {
      "model_module": "@jupyter-widgets/controls",
      "model_module_version": "2.0.0",
      "model_name": "HTMLStyleModel",
      "state": {
       "description_width": "",
       "font_size": null,
       "text_color": null
      }
     },
     "6788983430be4a638eca5636fd6bfa7d": {
      "model_module": "@jupyter-widgets/base",
      "model_module_version": "2.0.0",
      "model_name": "LayoutModel",
      "state": {}
     },
     "67f3f2eb32da442d91ca5cf566ce3633": {
      "model_module": "@jupyter-widgets/controls",
      "model_module_version": "2.0.0",
      "model_name": "HTMLModel",
      "state": {
       "layout": "IPY_MODEL_80914c1be3f549329430d1d98c31f353",
       "style": "IPY_MODEL_07dc013c7e874e97b00bc93dd65059fd",
       "value": "model-00002-of-00005.safetensors: 100%"
      }
     },
     "6a9e3d43cf22435396bde8963c33217b": {
      "model_module": "@jupyter-widgets/controls",
      "model_module_version": "2.0.0",
      "model_name": "HTMLModel",
      "state": {
       "layout": "IPY_MODEL_3a5ba8de6d8049538dfcda1e5f1140ba",
       "style": "IPY_MODEL_0ed64a5d87d441dc992ab3357dfa51c1",
       "value": "model.safetensors.index.json: 100%"
      }
     },
     "6d1c7203654b427aa05f304bfb63f3da": {
      "model_module": "@jupyter-widgets/base",
      "model_module_version": "2.0.0",
      "model_name": "LayoutModel",
      "state": {}
     },
     "6e151c66017e493b9cb6ce25f8d2dcb2": {
      "model_module": "@jupyter-widgets/controls",
      "model_module_version": "2.0.0",
      "model_name": "FloatProgressModel",
      "state": {
       "bar_style": "success",
       "layout": "IPY_MODEL_12138fd2f14a4c9b8a88af9e7ec7c55c",
       "max": 1050,
       "style": "IPY_MODEL_23e7401f026d495388cfb829f5c411c1",
       "value": 1050
      }
     },
     "6e3789fee6ef46e1829b88d33cf24ece": {
      "model_module": "@jupyter-widgets/controls",
      "model_module_version": "2.0.0",
      "model_name": "HTMLModel",
      "state": {
       "layout": "IPY_MODEL_a2c3a153be394f46bf8ca716fa84511b",
       "style": "IPY_MODEL_32792141e7724a8da4a9db065e25332c",
       "value": "config.json: 100%"
      }
     },
     "6ec30767edf6411b8813b20ef8d8b44e": {
      "model_module": "@jupyter-widgets/base",
      "model_module_version": "2.0.0",
      "model_name": "LayoutModel",
      "state": {}
     },
     "6eca8df94a8a4c4d8e5a1361ec5d8f6e": {
      "model_module": "@jupyter-widgets/base",
      "model_module_version": "2.0.0",
      "model_name": "LayoutModel",
      "state": {}
     },
     "6f01050f30df4917ae914f9696527725": {
      "model_module": "@jupyter-widgets/controls",
      "model_module_version": "2.0.0",
      "model_name": "HTMLModel",
      "state": {
       "layout": "IPY_MODEL_e6970913dc324c0295e595ceb76d03ab",
       "style": "IPY_MODEL_88a1884c463543c1a957ec18ec7c99b4",
       "value": "tokenizer_config.json: 100%"
      }
     },
     "6f05905e71874ebdaea5c9bfbd294a11": {
      "model_module": "@jupyter-widgets/base",
      "model_module_version": "2.0.0",
      "model_name": "LayoutModel",
      "state": {}
     },
     "7017e0bf32df4f37bade08ba7fb62adf": {
      "model_module": "@jupyter-widgets/base",
      "model_module_version": "2.0.0",
      "model_name": "LayoutModel",
      "state": {}
     },
     "70f9e8b9edb24c9aa7e88518c23c995f": {
      "model_module": "@jupyter-widgets/controls",
      "model_module_version": "2.0.0",
      "model_name": "HBoxModel",
      "state": {
       "children": [
        "IPY_MODEL_8e3d947b112e4eadb0b1df27e8e05b25",
        "IPY_MODEL_6e151c66017e493b9cb6ce25f8d2dcb2",
        "IPY_MODEL_93004bc7594e4ad1b11237b9dcca23b5"
       ],
       "layout": "IPY_MODEL_54d093615f3341bc93560fa2e663e649"
      }
     },
     "71073e97c4d648718ad21137e6078698": {
      "model_module": "@jupyter-widgets/controls",
      "model_module_version": "2.0.0",
      "model_name": "HTMLModel",
      "state": {
       "layout": "IPY_MODEL_e246d92b252a4ce3bac9144c6e7b8930",
       "style": "IPY_MODEL_e62c870322b74c589abcd0e12b94da0a",
       "value": " 733/733 [00:00&lt;00:00, 195kB/s]"
      }
     },
     "71d20c3467a649be8aab998cb2c98ece": {
      "model_module": "@jupyter-widgets/base",
      "model_module_version": "2.0.0",
      "model_name": "LayoutModel",
      "state": {}
     },
     "71ea4656a0aa45d096ebe397fe828f8f": {
      "model_module": "@jupyter-widgets/controls",
      "model_module_version": "2.0.0",
      "model_name": "HTMLModel",
      "state": {
       "layout": "IPY_MODEL_e9b2866b59c84a49bf477f19214045e2",
       "style": "IPY_MODEL_413691edeb7c40ba9e1420c4bd003763",
       "value": "model.safetensors.index.json: 100%"
      }
     },
     "72fa5f9ec87a4db3aaab9d010da39cf4": {
      "model_module": "@jupyter-widgets/controls",
      "model_module_version": "2.0.0",
      "model_name": "HBoxModel",
      "state": {
       "children": [
        "IPY_MODEL_58dfee4bf3dc409b926057aed4db54c7",
        "IPY_MODEL_7d820829587a42b48516b414ef18219c",
        "IPY_MODEL_cc0139e6123d4ad9a19d36f59fdfa998"
       ],
       "layout": "IPY_MODEL_3a1426c9631241b28e5355ffcc63f72f"
      }
     },
     "7312f3331f9d41fdad96a92db1e34244": {
      "model_module": "@jupyter-widgets/base",
      "model_module_version": "2.0.0",
      "model_name": "LayoutModel",
      "state": {}
     },
     "735c3b36794a4c89820056eaf30783ad": {
      "model_module": "@jupyter-widgets/controls",
      "model_module_version": "2.0.0",
      "model_name": "ProgressStyleModel",
      "state": {
       "description_width": ""
      }
     },
     "74fafa3a3b654ef286d6b85495afc36b": {
      "model_module": "@jupyter-widgets/controls",
      "model_module_version": "2.0.0",
      "model_name": "HBoxModel",
      "state": {
       "children": [
        "IPY_MODEL_8bf03120e7a44723b74f2f80e63c63e7",
        "IPY_MODEL_d193baf6674b485db6b448ae3d7daaaa",
        "IPY_MODEL_258ddf8643c0441699857cad680d4f25"
       ],
       "layout": "IPY_MODEL_6eca8df94a8a4c4d8e5a1361ec5d8f6e"
      }
     },
     "74fd47056b034e35843c83de54396be0": {
      "model_module": "@jupyter-widgets/controls",
      "model_module_version": "2.0.0",
      "model_name": "HTMLModel",
      "state": {
       "layout": "IPY_MODEL_3d0a2879929048e89fc5ee27bdaa7a1a",
       "style": "IPY_MODEL_e3f107d471144cb0ad906dbaf413910a",
       "value": " 3.86G/3.86G [05:58&lt;00:00, 11.5MB/s]"
      }
     },
     "776149647d2d47888d2797f5a3324c0a": {
      "model_module": "@jupyter-widgets/controls",
      "model_module_version": "2.0.0",
      "model_name": "ProgressStyleModel",
      "state": {
       "description_width": ""
      }
     },
     "7830f862e2cc4dbb943f64136f5191ba": {
      "model_module": "@jupyter-widgets/controls",
      "model_module_version": "2.0.0",
      "model_name": "HTMLStyleModel",
      "state": {
       "description_width": "",
       "font_size": null,
       "text_color": null
      }
     },
     "78cff34ddc544327997a12d14e7ce664": {
      "model_module": "@jupyter-widgets/controls",
      "model_module_version": "2.0.0",
      "model_name": "HTMLModel",
      "state": {
       "layout": "IPY_MODEL_b5c5ad2990b043069efd2192a1549fc0",
       "style": "IPY_MODEL_5e74611673144678814dac7a23923854",
       "value": " 5/5 [00:01&lt;00:00,  2.92it/s]"
      }
     },
     "7a3852c8da15460aae5fadf9b3beb2c4": {
      "model_module": "@jupyter-widgets/base",
      "model_module_version": "2.0.0",
      "model_name": "LayoutModel",
      "state": {}
     },
     "7a48f7206ac24db3a9b0e16fa10fb3c2": {
      "model_module": "@jupyter-widgets/base",
      "model_module_version": "2.0.0",
      "model_name": "LayoutModel",
      "state": {}
     },
     "7b4aab0c5723463aa800cf8ed28b9db9": {
      "model_module": "@jupyter-widgets/controls",
      "model_module_version": "2.0.0",
      "model_name": "ProgressStyleModel",
      "state": {
       "description_width": ""
      }
     },
     "7b8e228a9c43463fa9864c7e71df5214": {
      "model_module": "@jupyter-widgets/controls",
      "model_module_version": "2.0.0",
      "model_name": "HBoxModel",
      "state": {
       "children": [
        "IPY_MODEL_109c4bf7f1174e7a821f57d6ec703a14",
        "IPY_MODEL_56040d93eb9940bf9622828adeb3580d",
        "IPY_MODEL_38ddcb88da6741d19ce4ce1b619f83a9"
       ],
       "layout": "IPY_MODEL_1bc4336c174a467ebd3db5b6095514eb"
      }
     },
     "7c835ca502c84c62805b77f3af28a09c": {
      "model_module": "@jupyter-widgets/controls",
      "model_module_version": "2.0.0",
      "model_name": "HTMLModel",
      "state": {
       "layout": "IPY_MODEL_c9acd08211fb4bfabe2f51635c6340a3",
       "style": "IPY_MODEL_942eb8586b9c406cb7133f8157802e16",
       "value": "tokenizer.json: 100%"
      }
     },
     "7d820829587a42b48516b414ef18219c": {
      "model_module": "@jupyter-widgets/controls",
      "model_module_version": "2.0.0",
      "model_name": "FloatProgressModel",
      "state": {
       "bar_style": "success",
       "layout": "IPY_MODEL_cc882575c27f4ec793fff12232f84633",
       "max": 1671839,
       "style": "IPY_MODEL_9027200662534cf4aafe18367b99b282",
       "value": 1671839
      }
     },
     "7d90a9b393984138b49b03cc426231fe": {
      "model_module": "@jupyter-widgets/controls",
      "model_module_version": "2.0.0",
      "model_name": "FloatProgressModel",
      "state": {
       "bar_style": "success",
       "layout": "IPY_MODEL_ae8945ee35744396a626a4617381c540",
       "max": 3898649896,
       "style": "IPY_MODEL_776149647d2d47888d2797f5a3324c0a",
       "value": 3898649896
      }
     },
     "7df15a98c90145e7a41263689716d7f1": {
      "model_module": "@jupyter-widgets/controls",
      "model_module_version": "2.0.0",
      "model_name": "ProgressStyleModel",
      "state": {
       "description_width": ""
      }
     },
     "7e5a6ac447fc4eb78b86e7218dc3ba04": {
      "model_module": "@jupyter-widgets/controls",
      "model_module_version": "2.0.0",
      "model_name": "HTMLStyleModel",
      "state": {
       "description_width": "",
       "font_size": null,
       "text_color": null
      }
     },
     "7f898a53c14947faa66a8b59acd2615d": {
      "model_module": "@jupyter-widgets/controls",
      "model_module_version": "2.0.0",
      "model_name": "HTMLStyleModel",
      "state": {
       "description_width": "",
       "font_size": null,
       "text_color": null
      }
     },
     "7f96fa5f992c4014b4fd9546f7d45311": {
      "model_module": "@jupyter-widgets/controls",
      "model_module_version": "2.0.0",
      "model_name": "HTMLStyleModel",
      "state": {
       "description_width": "",
       "font_size": null,
       "text_color": null
      }
     },
     "7fa034b70fc34114b6f3631e88062b6f": {
      "model_module": "@jupyter-widgets/base",
      "model_module_version": "2.0.0",
      "model_name": "LayoutModel",
      "state": {}
     },
     "80914c1be3f549329430d1d98c31f353": {
      "model_module": "@jupyter-widgets/base",
      "model_module_version": "2.0.0",
      "model_name": "LayoutModel",
      "state": {}
     },
     "827cb635381a4d08a63ae3eece431641": {
      "model_module": "@jupyter-widgets/controls",
      "model_module_version": "2.0.0",
      "model_name": "HBoxModel",
      "state": {
       "children": [
        "IPY_MODEL_67f3f2eb32da442d91ca5cf566ce3633",
        "IPY_MODEL_2cb1bb29424847199a9aee1fee514131",
        "IPY_MODEL_74fd47056b034e35843c83de54396be0"
       ],
       "layout": "IPY_MODEL_50c5db4957bd4f75ac7f829d4f162b9b"
      }
     },
     "832247225783483687b27133dfa497ab": {
      "model_module": "@jupyter-widgets/controls",
      "model_module_version": "2.0.0",
      "model_name": "HTMLModel",
      "state": {
       "layout": "IPY_MODEL_838d04d27bb346c4bea81d56ffcabd5c",
       "style": "IPY_MODEL_150d58cd873d4c5e8bdaa9420d8d98d9",
       "value": "Downloading shards: 100%"
      }
     },
     "838d04d27bb346c4bea81d56ffcabd5c": {
      "model_module": "@jupyter-widgets/base",
      "model_module_version": "2.0.0",
      "model_name": "LayoutModel",
      "state": {}
     },
     "83a9814fb50b44e0b457888ed4407eb3": {
      "model_module": "@jupyter-widgets/base",
      "model_module_version": "2.0.0",
      "model_name": "LayoutModel",
      "state": {}
     },
     "855a3c912b7e4358be95a0d344982ead": {
      "model_module": "@jupyter-widgets/controls",
      "model_module_version": "2.0.0",
      "model_name": "HBoxModel",
      "state": {
       "children": [
        "IPY_MODEL_619b1fca3b6143b9a06933ac6269acc9",
        "IPY_MODEL_94189565db5f493086bc3f1a75015192",
        "IPY_MODEL_15f3034c14a348d5b8578a09cb8f94aa"
       ],
       "layout": "IPY_MODEL_ee61a732d22c42daa9d0fcde370c6887"
      }
     },
     "85acb1ae8f9743ddb727b4435def4efe": {
      "model_module": "@jupyter-widgets/controls",
      "model_module_version": "2.0.0",
      "model_name": "HTMLStyleModel",
      "state": {
       "description_width": "",
       "font_size": null,
       "text_color": null
      }
     },
     "86947a11c464408a82c6c900dcf6e8ed": {
      "model_module": "@jupyter-widgets/controls",
      "model_module_version": "2.0.0",
      "model_name": "HTMLStyleModel",
      "state": {
       "description_width": "",
       "font_size": null,
       "text_color": null
      }
     },
     "874bbb2e40964cb195c908be162a0fa3": {
      "model_module": "@jupyter-widgets/controls",
      "model_module_version": "2.0.0",
      "model_name": "HTMLModel",
      "state": {
       "layout": "IPY_MODEL_d41ef327a2bd4230b11aeb05a52ae63c",
       "style": "IPY_MODEL_8ca56232e4054fda812b101041b72fce",
       "value": " 3.86G/3.86G [06:31&lt;00:00, 7.28MB/s]"
      }
     },
     "8791da4ffadc4d9382be17b9ff00b4a1": {
      "model_module": "@jupyter-widgets/controls",
      "model_module_version": "2.0.0",
      "model_name": "HTMLModel",
      "state": {
       "layout": "IPY_MODEL_e651ffd8a63f4d348ab4071b1fda74fe",
       "style": "IPY_MODEL_7830f862e2cc4dbb943f64136f5191ba",
       "value": "Loading checkpoint shards: 100%"
      }
     },
     "88a1884c463543c1a957ec18ec7c99b4": {
      "model_module": "@jupyter-widgets/controls",
      "model_module_version": "2.0.0",
      "model_name": "HTMLStyleModel",
      "state": {
       "description_width": "",
       "font_size": null,
       "text_color": null
      }
     },
     "8bf03120e7a44723b74f2f80e63c63e7": {
      "model_module": "@jupyter-widgets/controls",
      "model_module_version": "2.0.0",
      "model_name": "HTMLModel",
      "state": {
       "layout": "IPY_MODEL_1e2e7a39bc6741838c48f179c239d968",
       "style": "IPY_MODEL_a5c32739fd1340a7be83df051dc33046",
       "value": "adapter_model.safetensors: 100%"
      }
     },
     "8ca56232e4054fda812b101041b72fce": {
      "model_module": "@jupyter-widgets/controls",
      "model_module_version": "2.0.0",
      "model_name": "HTMLStyleModel",
      "state": {
       "description_width": "",
       "font_size": null,
       "text_color": null
      }
     },
     "8d530dd935b44c5fbc8224a6dedd317e": {
      "model_module": "@jupyter-widgets/controls",
      "model_module_version": "2.0.0",
      "model_name": "HTMLModel",
      "state": {
       "layout": "IPY_MODEL_c15f53974f5e4a00ac58a1a403331f1f",
       "style": "IPY_MODEL_e855a0e75aab41aeab21b427255916ea",
       "value": " 347/347 [00:00&lt;00:00, 88.8kB/s]"
      }
     },
     "8e3d947b112e4eadb0b1df27e8e05b25": {
      "model_module": "@jupyter-widgets/controls",
      "model_module_version": "2.0.0",
      "model_name": "HTMLModel",
      "state": {
       "layout": "IPY_MODEL_f9045c5cb9bd4bb98fa0d644fcbf4afc",
       "style": "IPY_MODEL_00ee3a47f064400b83a00994054a5f2d",
       "value": "chat_template.json: 100%"
      }
     },
     "9027200662534cf4aafe18367b99b282": {
      "model_module": "@jupyter-widgets/controls",
      "model_module_version": "2.0.0",
      "model_name": "ProgressStyleModel",
      "state": {
       "description_width": ""
      }
     },
     "91eb8801b9824f5aa5a074b27e0b3bf0": {
      "model_module": "@jupyter-widgets/controls",
      "model_module_version": "2.0.0",
      "model_name": "FloatProgressModel",
      "state": {
       "bar_style": "success",
       "layout": "IPY_MODEL_34f8436436464b0db1f9fda8e6ccee72",
       "max": 750,
       "style": "IPY_MODEL_34b6a0a583d2424e8c8958bca5e37ac5",
       "value": 750
      }
     },
     "922a9abb20544dfea4f63ebf68ce3e42": {
      "model_module": "@jupyter-widgets/controls",
      "model_module_version": "2.0.0",
      "model_name": "HTMLModel",
      "state": {
       "layout": "IPY_MODEL_c174ebc673464a2cb9bd2c8127280e10",
       "style": "IPY_MODEL_ef31eae8dc534808b305dddf91777e54",
       "value": " 5/5 [26:56&lt;00:00, 290.10s/it]"
      }
     },
     "9287b6d9b37649b29dc0ced2934292a4": {
      "model_module": "@jupyter-widgets/base",
      "model_module_version": "2.0.0",
      "model_name": "LayoutModel",
      "state": {}
     },
     "9287dbd1fd25460fbab902c1d8de2304": {
      "model_module": "@jupyter-widgets/base",
      "model_module_version": "2.0.0",
      "model_name": "LayoutModel",
      "state": {}
     },
     "92b8ce6ac15f47f492008c658b76d5c0": {
      "model_module": "@jupyter-widgets/base",
      "model_module_version": "2.0.0",
      "model_name": "LayoutModel",
      "state": {}
     },
     "93004bc7594e4ad1b11237b9dcca23b5": {
      "model_module": "@jupyter-widgets/controls",
      "model_module_version": "2.0.0",
      "model_name": "HTMLModel",
      "state": {
       "layout": "IPY_MODEL_a4254422b15b498b815e885789bea18e",
       "style": "IPY_MODEL_e743cb3df87a4a5b821ade9d50fb0e75",
       "value": " 1.05k/1.05k [00:00&lt;00:00, 232kB/s]"
      }
     },
     "9367882279154cbc9c6e2ba858b96b56": {
      "model_module": "@jupyter-widgets/controls",
      "model_module_version": "2.0.0",
      "model_name": "HTMLStyleModel",
      "state": {
       "description_width": "",
       "font_size": null,
       "text_color": null
      }
     },
     "93846ff5f00a48c08615bf6ed46b6653": {
      "model_module": "@jupyter-widgets/controls",
      "model_module_version": "2.0.0",
      "model_name": "ProgressStyleModel",
      "state": {
       "description_width": ""
      }
     },
     "94189565db5f493086bc3f1a75015192": {
      "model_module": "@jupyter-widgets/controls",
      "model_module_version": "2.0.0",
      "model_name": "FloatProgressModel",
      "state": {
       "bar_style": "success",
       "layout": "IPY_MODEL_a8d0bb54a1b3469d9e8d6326deb3a56c",
       "max": 242696,
       "style": "IPY_MODEL_5e0ba6658bd74c7797fcccdb237292a0",
       "value": 242696
      }
     },
     "942eb8586b9c406cb7133f8157802e16": {
      "model_module": "@jupyter-widgets/controls",
      "model_module_version": "2.0.0",
      "model_name": "HTMLStyleModel",
      "state": {
       "description_width": "",
       "font_size": null,
       "text_color": null
      }
     },
     "944541b7f6504bdcacd5f78d2ee5b088": {
      "model_module": "@jupyter-widgets/base",
      "model_module_version": "2.0.0",
      "model_name": "LayoutModel",
      "state": {}
     },
     "9496b9a40a3b41d7b9a36eb13534e73f": {
      "model_module": "@jupyter-widgets/controls",
      "model_module_version": "2.0.0",
      "model_name": "ProgressStyleModel",
      "state": {
       "description_width": ""
      }
     },
     "94bf1a601b4442949bf81743a9673adf": {
      "model_module": "@jupyter-widgets/controls",
      "model_module_version": "2.0.0",
      "model_name": "FloatProgressModel",
      "state": {
       "bar_style": "success",
       "layout": "IPY_MODEL_111c2ed4f4334fa088e07dae1be2fcff",
       "max": 862495528,
       "style": "IPY_MODEL_3a1945c583f845969cca34d6b7177be1",
       "value": 862495528
      }
     },
     "96c1e5d985614368b9a51a70a2db8335": {
      "model_module": "@jupyter-widgets/controls",
      "model_module_version": "2.0.0",
      "model_name": "HTMLStyleModel",
      "state": {
       "description_width": "",
       "font_size": null,
       "text_color": null
      }
     },
     "98fe9eb8607d4df3ba3e45708c146faf": {
      "model_module": "@jupyter-widgets/base",
      "model_module_version": "2.0.0",
      "model_name": "LayoutModel",
      "state": {}
     },
     "9a5167cd85cd429bb557a12ca86ead55": {
      "model_module": "@jupyter-widgets/controls",
      "model_module_version": "2.0.0",
      "model_name": "HTMLModel",
      "state": {
       "layout": "IPY_MODEL_e601cfe5e18344838a08779585fd586a",
       "style": "IPY_MODEL_58fb50ff20d446978f0397366de00e16",
       "value": "config.json: 100%"
      }
     },
     "9b9eac8663544c2db0e53adf0d8fdb39": {
      "model_module": "@jupyter-widgets/controls",
      "model_module_version": "2.0.0",
      "model_name": "ProgressStyleModel",
      "state": {
       "description_width": ""
      }
     },
     "9bd904639480462b9db656f63ab49a73": {
      "model_module": "@jupyter-widgets/base",
      "model_module_version": "2.0.0",
      "model_name": "LayoutModel",
      "state": {}
     },
     "9cbba251387141a8a9c0f4e9d82c0f14": {
      "model_module": "@jupyter-widgets/controls",
      "model_module_version": "2.0.0",
      "model_name": "ProgressStyleModel",
      "state": {
       "description_width": ""
      }
     },
     "9d18fe6f646743f0ab80b7688470b3b1": {
      "model_module": "@jupyter-widgets/controls",
      "model_module_version": "2.0.0",
      "model_name": "FloatProgressModel",
      "state": {
       "bar_style": "success",
       "layout": "IPY_MODEL_6d1c7203654b427aa05f304bfb63f3da",
       "max": 1197,
       "style": "IPY_MODEL_c859acda89394fc38a36dad1a4675d75",
       "value": 1197
      }
     },
     "a08ecbfdd08043c49eb3aa94f9c47100": {
      "model_module": "@jupyter-widgets/base",
      "model_module_version": "2.0.0",
      "model_name": "LayoutModel",
      "state": {}
     },
     "a10d76a0868649f8820c7e2302a48428": {
      "model_module": "@jupyter-widgets/base",
      "model_module_version": "2.0.0",
      "model_name": "LayoutModel",
      "state": {}
     },
     "a2c3a153be394f46bf8ca716fa84511b": {
      "model_module": "@jupyter-widgets/base",
      "model_module_version": "2.0.0",
      "model_name": "LayoutModel",
      "state": {}
     },
     "a333fe28dc0442b59d2ae774135df0d7": {
      "model_module": "@jupyter-widgets/controls",
      "model_module_version": "2.0.0",
      "model_name": "HTMLStyleModel",
      "state": {
       "description_width": "",
       "font_size": null,
       "text_color": null
      }
     },
     "a4254422b15b498b815e885789bea18e": {
      "model_module": "@jupyter-widgets/base",
      "model_module_version": "2.0.0",
      "model_name": "LayoutModel",
      "state": {}
     },
     "a45ac87f78e64d10ada61d7f1c06f286": {
      "model_module": "@jupyter-widgets/base",
      "model_module_version": "2.0.0",
      "model_name": "LayoutModel",
      "state": {}
     },
     "a4bdda6f05344cf2ae9d84b6eda0e909": {
      "model_module": "@jupyter-widgets/controls",
      "model_module_version": "2.0.0",
      "model_name": "ProgressStyleModel",
      "state": {
       "description_width": ""
      }
     },
     "a5155a9a83394afab6ab9dd2f2a56691": {
      "model_module": "@jupyter-widgets/base",
      "model_module_version": "2.0.0",
      "model_name": "LayoutModel",
      "state": {}
     },
     "a5843ce6a15240b2ac2327adec45f92a": {
      "model_module": "@jupyter-widgets/base",
      "model_module_version": "2.0.0",
      "model_name": "LayoutModel",
      "state": {}
     },
     "a5c32739fd1340a7be83df051dc33046": {
      "model_module": "@jupyter-widgets/controls",
      "model_module_version": "2.0.0",
      "model_name": "HTMLStyleModel",
      "state": {
       "description_width": "",
       "font_size": null,
       "text_color": null
      }
     },
     "a7b4f19e29d0424e80827f7ad515c2bd": {
      "model_module": "@jupyter-widgets/base",
      "model_module_version": "2.0.0",
      "model_name": "LayoutModel",
      "state": {}
     },
     "a8d0bb54a1b3469d9e8d6326deb3a56c": {
      "model_module": "@jupyter-widgets/base",
      "model_module_version": "2.0.0",
      "model_name": "LayoutModel",
      "state": {}
     },
     "a93790b0469945608a8e4d2ca435a08d": {
      "model_module": "@jupyter-widgets/controls",
      "model_module_version": "2.0.0",
      "model_name": "HTMLStyleModel",
      "state": {
       "description_width": "",
       "font_size": null,
       "text_color": null
      }
     },
     "a9ba390761874d2e9abc15a92bc7e7fd": {
      "model_module": "@jupyter-widgets/controls",
      "model_module_version": "2.0.0",
      "model_name": "HTMLModel",
      "state": {
       "layout": "IPY_MODEL_83a9814fb50b44e0b457888ed4407eb3",
       "style": "IPY_MODEL_7f96fa5f992c4014b4fd9546f7d45311",
       "value": " 3.86G/3.86G [05:54&lt;00:00, 10.9MB/s]"
      }
     },
     "aa5598591c4242b6a43d76d58ba3a781": {
      "model_module": "@jupyter-widgets/base",
      "model_module_version": "2.0.0",
      "model_name": "LayoutModel",
      "state": {}
     },
     "ac77887dedb84324ab6411760da36993": {
      "model_module": "@jupyter-widgets/controls",
      "model_module_version": "2.0.0",
      "model_name": "ProgressStyleModel",
      "state": {
       "description_width": ""
      }
     },
     "aca3c46c970b41148249a780301fff18": {
      "model_module": "@jupyter-widgets/base",
      "model_module_version": "2.0.0",
      "model_name": "LayoutModel",
      "state": {}
     },
     "ad983f81e4e64e0ebf8b1ae4bc4526aa": {
      "model_module": "@jupyter-widgets/base",
      "model_module_version": "2.0.0",
      "model_name": "LayoutModel",
      "state": {}
     },
     "ada7c0b084bf44828d19e7ac52fa1fa1": {
      "model_module": "@jupyter-widgets/controls",
      "model_module_version": "2.0.0",
      "model_name": "HTMLModel",
      "state": {
       "layout": "IPY_MODEL_0878d0972deb4b91adb714881a08b7bb",
       "style": "IPY_MODEL_1a67eed19b7642cc86a4d90f7799305c",
       "value": "special_tokens_map.json: 100%"
      }
     },
     "ae8945ee35744396a626a4617381c540": {
      "model_module": "@jupyter-widgets/base",
      "model_module_version": "2.0.0",
      "model_name": "LayoutModel",
      "state": {}
     },
     "aef7d17beb664c919e049e1375c9e5af": {
      "model_module": "@jupyter-widgets/controls",
      "model_module_version": "2.0.0",
      "model_name": "HTMLStyleModel",
      "state": {
       "description_width": "",
       "font_size": null,
       "text_color": null
      }
     },
     "afe14495344c42c685384a1bb2def8e9": {
      "model_module": "@jupyter-widgets/controls",
      "model_module_version": "2.0.0",
      "model_name": "HTMLStyleModel",
      "state": {
       "description_width": "",
       "font_size": null,
       "text_color": null
      }
     },
     "b0d9f0653cd940b498919828f345ec1e": {
      "model_module": "@jupyter-widgets/controls",
      "model_module_version": "2.0.0",
      "model_name": "HTMLStyleModel",
      "state": {
       "description_width": "",
       "font_size": null,
       "text_color": null
      }
     },
     "b17e00109bd04bbb9155438c63902aea": {
      "model_module": "@jupyter-widgets/controls",
      "model_module_version": "2.0.0",
      "model_name": "HTMLStyleModel",
      "state": {
       "description_width": "",
       "font_size": null,
       "text_color": null
      }
     },
     "b19ba4328a7240b7bf2ec7c512900fee": {
      "model_module": "@jupyter-widgets/controls",
      "model_module_version": "2.0.0",
      "model_name": "HTMLStyleModel",
      "state": {
       "description_width": "",
       "font_size": null,
       "text_color": null
      }
     },
     "b254351d37d7461fa886cef8dcfbd75a": {
      "model_module": "@jupyter-widgets/base",
      "model_module_version": "2.0.0",
      "model_name": "LayoutModel",
      "state": {}
     },
     "b5b3c6efb2a54b529b1a0fc0f272157d": {
      "model_module": "@jupyter-widgets/base",
      "model_module_version": "2.0.0",
      "model_name": "LayoutModel",
      "state": {}
     },
     "b5c5ad2990b043069efd2192a1549fc0": {
      "model_module": "@jupyter-widgets/base",
      "model_module_version": "2.0.0",
      "model_name": "LayoutModel",
      "state": {}
     },
     "b6de58b4890d46ec93d64c36ed5a93a0": {
      "model_module": "@jupyter-widgets/controls",
      "model_module_version": "2.0.0",
      "model_name": "HTMLModel",
      "state": {
       "layout": "IPY_MODEL_ee011d3cf53b4411bb170ef9987aec9d",
       "style": "IPY_MODEL_85acb1ae8f9743ddb727b4435def4efe",
       "value": " 2.78M/2.78M [00:00&lt;00:00, 11.9MB/s]"
      }
     },
     "b6f44d915ffa4f08b7c5e93380bb47e3": {
      "model_module": "@jupyter-widgets/base",
      "model_module_version": "2.0.0",
      "model_name": "LayoutModel",
      "state": {}
     },
     "b7a027ba38d849a09148d72c0aa415b2": {
      "model_module": "@jupyter-widgets/controls",
      "model_module_version": "2.0.0",
      "model_name": "HTMLModel",
      "state": {
       "layout": "IPY_MODEL_3b6b767f597d44fb9bcb79682ce75c4f",
       "style": "IPY_MODEL_321ecc692f3540a784afdf4fe1757a3d",
       "value": "tokenizer.json: 100%"
      }
     },
     "b8122ece673b4bf3afe2b807ebfd65b1": {
      "model_module": "@jupyter-widgets/base",
      "model_module_version": "2.0.0",
      "model_name": "LayoutModel",
      "state": {}
     },
     "bba15262ef0e4941857b44d5bbd79123": {
      "model_module": "@jupyter-widgets/base",
      "model_module_version": "2.0.0",
      "model_name": "LayoutModel",
      "state": {}
     },
     "bd9a3bb6113b4a729a7bd66944f85738": {
      "model_module": "@jupyter-widgets/controls",
      "model_module_version": "2.0.0",
      "model_name": "HBoxModel",
      "state": {
       "children": [
        "IPY_MODEL_6f01050f30df4917ae914f9696527725",
        "IPY_MODEL_47d16997aad841d992faecb05121b593",
        "IPY_MODEL_41b9204cb5ae4e89849d54bb259c65b6"
       ],
       "layout": "IPY_MODEL_0a2cfa9bd8d048389df06874bcf4dd43"
      }
     },
     "bfb3ad518e2e41aeba87368196a70902": {
      "model_module": "@jupyter-widgets/base",
      "model_module_version": "2.0.0",
      "model_name": "LayoutModel",
      "state": {}
     },
     "c0b25eed44c44ab0a635f7d321ff5f98": {
      "model_module": "@jupyter-widgets/base",
      "model_module_version": "2.0.0",
      "model_name": "LayoutModel",
      "state": {}
     },
     "c15f53974f5e4a00ac58a1a403331f1f": {
      "model_module": "@jupyter-widgets/base",
      "model_module_version": "2.0.0",
      "model_name": "LayoutModel",
      "state": {}
     },
     "c174ebc673464a2cb9bd2c8127280e10": {
      "model_module": "@jupyter-widgets/base",
      "model_module_version": "2.0.0",
      "model_name": "LayoutModel",
      "state": {}
     },
     "c1f08a6c359e493c9316c2cd0e0cc0c8": {
      "model_module": "@jupyter-widgets/controls",
      "model_module_version": "2.0.0",
      "model_name": "ProgressStyleModel",
      "state": {
       "description_width": ""
      }
     },
     "c3a96414cb254e8bab2d621ec098e277": {
      "model_module": "@jupyter-widgets/base",
      "model_module_version": "2.0.0",
      "model_name": "LayoutModel",
      "state": {}
     },
     "c4880327d15b465e836a38a078eeda96": {
      "model_module": "@jupyter-widgets/controls",
      "model_module_version": "2.0.0",
      "model_name": "FloatProgressModel",
      "state": {
       "bar_style": "success",
       "layout": "IPY_MODEL_d38e636f15394bd4a34b55b2ca30d2ec",
       "max": 17763459,
       "style": "IPY_MODEL_93846ff5f00a48c08615bf6ed46b6653",
       "value": 17763459
      }
     },
     "c5adc7fa4bd145a588294ded6c7fc257": {
      "model_module": "@jupyter-widgets/controls",
      "model_module_version": "2.0.0",
      "model_name": "HBoxModel",
      "state": {
       "children": [
        "IPY_MODEL_6a9e3d43cf22435396bde8963c33217b",
        "IPY_MODEL_2fb0e02646db46ccb693509a3f023ce6",
        "IPY_MODEL_ec31d87c2d414af8ac1622972884613d"
       ],
       "layout": "IPY_MODEL_9287dbd1fd25460fbab902c1d8de2304"
      }
     },
     "c7b2869b5e3f442d9b2fc46bd6a32f1b": {
      "model_module": "@jupyter-widgets/controls",
      "model_module_version": "2.0.0",
      "model_name": "HTMLStyleModel",
      "state": {
       "description_width": "",
       "font_size": null,
       "text_color": null
      }
     },
     "c859acda89394fc38a36dad1a4675d75": {
      "model_module": "@jupyter-widgets/controls",
      "model_module_version": "2.0.0",
      "model_name": "ProgressStyleModel",
      "state": {
       "description_width": ""
      }
     },
     "c9acd08211fb4bfabe2f51635c6340a3": {
      "model_module": "@jupyter-widgets/base",
      "model_module_version": "2.0.0",
      "model_name": "LayoutModel",
      "state": {}
     },
     "c9db8b6eb1ee400298375fd28d91289b": {
      "model_module": "@jupyter-widgets/base",
      "model_module_version": "2.0.0",
      "model_name": "LayoutModel",
      "state": {}
     },
     "cb4828c3b98a4855ae4553915281316e": {
      "model_module": "@jupyter-widgets/controls",
      "model_module_version": "2.0.0",
      "model_name": "HBoxModel",
      "state": {
       "children": [
        "IPY_MODEL_ada7c0b084bf44828d19e7ac52fa1fa1",
        "IPY_MODEL_5452f0ff748c40f99b9cbedb78eeaa64",
        "IPY_MODEL_71073e97c4d648718ad21137e6078698"
       ],
       "layout": "IPY_MODEL_4e153b4f122842a1b59de3f8bf3e7834"
      }
     },
     "cb73f6d0f2f848c8bed50273ae810450": {
      "model_module": "@jupyter-widgets/controls",
      "model_module_version": "2.0.0",
      "model_name": "HTMLModel",
      "state": {
       "layout": "IPY_MODEL_7a3852c8da15460aae5fadf9b3beb2c4",
       "style": "IPY_MODEL_121aece28c04490481d1cfb53598906b",
       "value": " 1.09G/1.09G [02:25&lt;00:00, 10.6MB/s]"
      }
     },
     "cc0139e6123d4ad9a19d36f59fdfa998": {
      "model_module": "@jupyter-widgets/controls",
      "model_module_version": "2.0.0",
      "model_name": "HTMLModel",
      "state": {
       "layout": "IPY_MODEL_ad983f81e4e64e0ebf8b1ae4bc4526aa",
       "style": "IPY_MODEL_5ab34927f9a74516ba317824f4cec1ca",
       "value": " 1.67M/1.67M [00:00&lt;00:00, 11.9MB/s]"
      }
     },
     "cc57984ea41a43dbb77706ce3084d87e": {
      "model_module": "@jupyter-widgets/base",
      "model_module_version": "2.0.0",
      "model_name": "LayoutModel",
      "state": {}
     },
     "cc882575c27f4ec793fff12232f84633": {
      "model_module": "@jupyter-widgets/base",
      "model_module_version": "2.0.0",
      "model_name": "LayoutModel",
      "state": {}
     },
     "ccdbb1f521bc48c6b730d60b9b376544": {
      "model_module": "@jupyter-widgets/controls",
      "model_module_version": "2.0.0",
      "model_name": "HTMLStyleModel",
      "state": {
       "description_width": "",
       "font_size": null,
       "text_color": null
      }
     },
     "ce9b6cbd26fd4f16b5801bf159dae9b9": {
      "model_module": "@jupyter-widgets/controls",
      "model_module_version": "2.0.0",
      "model_name": "HTMLStyleModel",
      "state": {
       "description_width": "",
       "font_size": null,
       "text_color": null
      }
     },
     "d193baf6674b485db6b448ae3d7daaaa": {
      "model_module": "@jupyter-widgets/controls",
      "model_module_version": "2.0.0",
      "model_name": "FloatProgressModel",
      "state": {
       "bar_style": "success",
       "layout": "IPY_MODEL_b254351d37d7461fa886cef8dcfbd75a",
       "max": 78625112,
       "style": "IPY_MODEL_41f81599f0104b74a7355ae01aeb4aef",
       "value": 78625112
      }
     },
     "d1c1fa7b35384b9797f078e818645b53": {
      "model_module": "@jupyter-widgets/controls",
      "model_module_version": "2.0.0",
      "model_name": "HTMLStyleModel",
      "state": {
       "description_width": "",
       "font_size": null,
       "text_color": null
      }
     },
     "d2b331cbf67a47c0aaf385562c7eb10d": {
      "model_module": "@jupyter-widgets/controls",
      "model_module_version": "2.0.0",
      "model_name": "HBoxModel",
      "state": {
       "children": [
        "IPY_MODEL_9a5167cd85cd429bb557a12ca86ead55",
        "IPY_MODEL_9d18fe6f646743f0ab80b7688470b3b1",
        "IPY_MODEL_18b99ff91904418cb32b0c7e49ba2933"
       ],
       "layout": "IPY_MODEL_b6f44d915ffa4f08b7c5e93380bb47e3"
      }
     },
     "d38e636f15394bd4a34b55b2ca30d2ec": {
      "model_module": "@jupyter-widgets/base",
      "model_module_version": "2.0.0",
      "model_name": "LayoutModel",
      "state": {}
     },
     "d40768b4724d4a6da78c4b31bb7f1d39": {
      "model_module": "@jupyter-widgets/controls",
      "model_module_version": "2.0.0",
      "model_name": "HTMLModel",
      "state": {
       "layout": "IPY_MODEL_92b8ce6ac15f47f492008c658b76d5c0",
       "style": "IPY_MODEL_d1c1fa7b35384b9797f078e818645b53",
       "value": "generation_config.json: 100%"
      }
     },
     "d4196614374f47f4841f352e51b508a4": {
      "model_module": "@jupyter-widgets/base",
      "model_module_version": "2.0.0",
      "model_name": "LayoutModel",
      "state": {}
     },
     "d41ef327a2bd4230b11aeb05a52ae63c": {
      "model_module": "@jupyter-widgets/base",
      "model_module_version": "2.0.0",
      "model_name": "LayoutModel",
      "state": {}
     },
     "d46026676dae4505b2edd12635c1ab9c": {
      "model_module": "@jupyter-widgets/base",
      "model_module_version": "2.0.0",
      "model_name": "LayoutModel",
      "state": {}
     },
     "d5f1c8cdb3a146fa9685a55535799b08": {
      "model_module": "@jupyter-widgets/controls",
      "model_module_version": "2.0.0",
      "model_name": "HBoxModel",
      "state": {
       "children": [
        "IPY_MODEL_3e6c518618a540669a02de5a42b02c1f",
        "IPY_MODEL_6181b7724a614c8b9c6639a2564b2803",
        "IPY_MODEL_78cff34ddc544327997a12d14e7ce664"
       ],
       "layout": "IPY_MODEL_c3a96414cb254e8bab2d621ec098e277"
      }
     },
     "d68eb381b6f14482910f8a5f1fdbf63a": {
      "model_module": "@jupyter-widgets/controls",
      "model_module_version": "2.0.0",
      "model_name": "HBoxModel",
      "state": {
       "children": [
        "IPY_MODEL_d40768b4724d4a6da78c4b31bb7f1d39",
        "IPY_MODEL_dcd632ded3384d69990ffd50dffa478d",
        "IPY_MODEL_e78fe856f4cb42d9a249195d7a3388a3"
       ],
       "layout": "IPY_MODEL_f9b1242acf654b0483c4c97de040c0db"
      }
     },
     "d6b34609c1d64aa9a86a8368cad26b84": {
      "model_module": "@jupyter-widgets/base",
      "model_module_version": "2.0.0",
      "model_name": "LayoutModel",
      "state": {}
     },
     "d78108fe57e64eaabd43322bda8226f9": {
      "model_module": "@jupyter-widgets/controls",
      "model_module_version": "2.0.0",
      "model_name": "ProgressStyleModel",
      "state": {
       "description_width": ""
      }
     },
     "dbea39e536ec48768c719514001770ca": {
      "model_module": "@jupyter-widgets/controls",
      "model_module_version": "2.0.0",
      "model_name": "HBoxModel",
      "state": {
       "children": [
        "IPY_MODEL_2ae75dfd5e6c4bdc9439edae756e3b1f",
        "IPY_MODEL_5200cb98b3ab47a89625eaac4de791c2",
        "IPY_MODEL_b6de58b4890d46ec93d64c36ed5a93a0"
       ],
       "layout": "IPY_MODEL_26afee5fd20a40e4a1064aac7595c39f"
      }
     },
     "dcd632ded3384d69990ffd50dffa478d": {
      "model_module": "@jupyter-widgets/controls",
      "model_module_version": "2.0.0",
      "model_name": "FloatProgressModel",
      "state": {
       "bar_style": "success",
       "layout": "IPY_MODEL_b5b3c6efb2a54b529b1a0fc0f272157d",
       "max": 244,
       "style": "IPY_MODEL_a4bdda6f05344cf2ae9d84b6eda0e909",
       "value": 244
      }
     },
     "de193e5ffe214569898776b24d3237e8": {
      "model_module": "@jupyter-widgets/controls",
      "model_module_version": "2.0.0",
      "model_name": "HTMLStyleModel",
      "state": {
       "description_width": "",
       "font_size": null,
       "text_color": null
      }
     },
     "e246d92b252a4ce3bac9144c6e7b8930": {
      "model_module": "@jupyter-widgets/base",
      "model_module_version": "2.0.0",
      "model_name": "LayoutModel",
      "state": {}
     },
     "e3258849cd574db79cf06510c3b7968f": {
      "model_module": "@jupyter-widgets/controls",
      "model_module_version": "2.0.0",
      "model_name": "HTMLModel",
      "state": {
       "layout": "IPY_MODEL_7a48f7206ac24db3a9b0e16fa10fb3c2",
       "style": "IPY_MODEL_1a395c80a01743d3b497cd03c5b4a85c",
       "value": "model-00001-of-00002.safetensors: 100%"
      }
     },
     "e3f107d471144cb0ad906dbaf413910a": {
      "model_module": "@jupyter-widgets/controls",
      "model_module_version": "2.0.0",
      "model_name": "HTMLStyleModel",
      "state": {
       "description_width": "",
       "font_size": null,
       "text_color": null
      }
     },
     "e4d79f4e88774cefa03709e489798bda": {
      "model_module": "@jupyter-widgets/controls",
      "model_module_version": "2.0.0",
      "model_name": "HTMLModel",
      "state": {
       "layout": "IPY_MODEL_1b6bd35c7a6d4dbfb1f4a742f747f2a9",
       "style": "IPY_MODEL_4d9009fa6c2d4b4dbeeb0e0e1ad8f97d",
       "value": " 4.99G/4.99G [08:03&lt;00:00, 10.1MB/s]"
      }
     },
     "e4dff3bfc9b04e748bd3bae29f334f6a": {
      "model_module": "@jupyter-widgets/base",
      "model_module_version": "2.0.0",
      "model_name": "LayoutModel",
      "state": {}
     },
     "e5319a9fc4c848128c1a19e9efeb102a": {
      "model_module": "@jupyter-widgets/controls",
      "model_module_version": "2.0.0",
      "model_name": "HTMLStyleModel",
      "state": {
       "description_width": "",
       "font_size": null,
       "text_color": null
      }
     },
     "e601cfe5e18344838a08779585fd586a": {
      "model_module": "@jupyter-widgets/base",
      "model_module_version": "2.0.0",
      "model_name": "LayoutModel",
      "state": {}
     },
     "e62c870322b74c589abcd0e12b94da0a": {
      "model_module": "@jupyter-widgets/controls",
      "model_module_version": "2.0.0",
      "model_name": "HTMLStyleModel",
      "state": {
       "description_width": "",
       "font_size": null,
       "text_color": null
      }
     },
     "e651ffd8a63f4d348ab4071b1fda74fe": {
      "model_module": "@jupyter-widgets/base",
      "model_module_version": "2.0.0",
      "model_name": "LayoutModel",
      "state": {}
     },
     "e6970913dc324c0295e595ceb76d03ab": {
      "model_module": "@jupyter-widgets/base",
      "model_module_version": "2.0.0",
      "model_name": "LayoutModel",
      "state": {}
     },
     "e6f9c6fa4c7240eb9690ed1c233107a3": {
      "model_module": "@jupyter-widgets/controls",
      "model_module_version": "2.0.0",
      "model_name": "ProgressStyleModel",
      "state": {
       "description_width": ""
      }
     },
     "e743cb3df87a4a5b821ade9d50fb0e75": {
      "model_module": "@jupyter-widgets/controls",
      "model_module_version": "2.0.0",
      "model_name": "HTMLStyleModel",
      "state": {
       "description_width": "",
       "font_size": null,
       "text_color": null
      }
     },
     "e78fe856f4cb42d9a249195d7a3388a3": {
      "model_module": "@jupyter-widgets/controls",
      "model_module_version": "2.0.0",
      "model_name": "HTMLModel",
      "state": {
       "layout": "IPY_MODEL_56ed8b2ae9664af98fe3b5a863a38be4",
       "style": "IPY_MODEL_86947a11c464408a82c6c900dcf6e8ed",
       "value": " 244/244 [00:00&lt;00:00, 79.3kB/s]"
      }
     },
     "e855a0e75aab41aeab21b427255916ea": {
      "model_module": "@jupyter-widgets/controls",
      "model_module_version": "2.0.0",
      "model_name": "HTMLStyleModel",
      "state": {
       "description_width": "",
       "font_size": null,
       "text_color": null
      }
     },
     "e8fd448a0a374ac1a960ac81064ff9ed": {
      "model_module": "@jupyter-widgets/controls",
      "model_module_version": "2.0.0",
      "model_name": "HBoxModel",
      "state": {
       "children": [
        "IPY_MODEL_71ea4656a0aa45d096ebe397fe828f8f",
        "IPY_MODEL_410acedc8f1c4d9da1511d0de297f45f",
        "IPY_MODEL_58485b9988a8452fb00d5df876dc5815"
       ],
       "layout": "IPY_MODEL_a5843ce6a15240b2ac2327adec45f92a"
      }
     },
     "e97c32a533dc424b8370904bb6efedfe": {
      "model_module": "@jupyter-widgets/controls",
      "model_module_version": "2.0.0",
      "model_name": "HTMLModel",
      "state": {
       "layout": "IPY_MODEL_c0b25eed44c44ab0a635f7d321ff5f98",
       "style": "IPY_MODEL_19cceec9f5c6414ca6db86ebf1570edb",
       "value": " 862M/862M [01:26&lt;00:00, 10.1MB/s]"
      }
     },
     "e9b2866b59c84a49bf477f19214045e2": {
      "model_module": "@jupyter-widgets/base",
      "model_module_version": "2.0.0",
      "model_name": "LayoutModel",
      "state": {}
     },
     "eb293d6f1af94db3808dea59b40ce60b": {
      "model_module": "@jupyter-widgets/base",
      "model_module_version": "2.0.0",
      "model_name": "LayoutModel",
      "state": {}
     },
     "ebf51a204a2f40d78dc58faae5d18fb6": {
      "model_module": "@jupyter-widgets/base",
      "model_module_version": "2.0.0",
      "model_name": "LayoutModel",
      "state": {}
     },
     "ec31d87c2d414af8ac1622972884613d": {
      "model_module": "@jupyter-widgets/controls",
      "model_module_version": "2.0.0",
      "model_name": "HTMLModel",
      "state": {
       "layout": "IPY_MODEL_17138eb3b37f435ba2c1beda9c0fd5ed",
       "style": "IPY_MODEL_f2abbc0bc40c48c7b4d219ef372b3c5b",
       "value": " 66.3k/66.3k [00:00&lt;00:00, 15.4MB/s]"
      }
     },
     "ee011d3cf53b4411bb170ef9987aec9d": {
      "model_module": "@jupyter-widgets/base",
      "model_module_version": "2.0.0",
      "model_name": "LayoutModel",
      "state": {}
     },
     "ee61a732d22c42daa9d0fcde370c6887": {
      "model_module": "@jupyter-widgets/base",
      "model_module_version": "2.0.0",
      "model_name": "LayoutModel",
      "state": {}
     },
     "ee8c485639b14edeb975ce763c35c0e6": {
      "model_module": "@jupyter-widgets/base",
      "model_module_version": "2.0.0",
      "model_name": "LayoutModel",
      "state": {}
     },
     "ef08ca456ba14fffa9f54655ad29e791": {
      "model_module": "@jupyter-widgets/controls",
      "model_module_version": "2.0.0",
      "model_name": "HTMLStyleModel",
      "state": {
       "description_width": "",
       "font_size": null,
       "text_color": null
      }
     },
     "ef31eae8dc534808b305dddf91777e54": {
      "model_module": "@jupyter-widgets/controls",
      "model_module_version": "2.0.0",
      "model_name": "HTMLStyleModel",
      "state": {
       "description_width": "",
       "font_size": null,
       "text_color": null
      }
     },
     "f0f9519537f6489f83006627aa0734e8": {
      "model_module": "@jupyter-widgets/controls",
      "model_module_version": "2.0.0",
      "model_name": "HBoxModel",
      "state": {
       "children": [
        "IPY_MODEL_832247225783483687b27133dfa497ab",
        "IPY_MODEL_14e21d0f5a5f4b35a9e3a07594c11c61",
        "IPY_MODEL_922a9abb20544dfea4f63ebf68ce3e42"
       ],
       "layout": "IPY_MODEL_fe97af7bdc1d4636969f4a472734e941"
      }
     },
     "f2abbc0bc40c48c7b4d219ef372b3c5b": {
      "model_module": "@jupyter-widgets/controls",
      "model_module_version": "2.0.0",
      "model_name": "HTMLStyleModel",
      "state": {
       "description_width": "",
       "font_size": null,
       "text_color": null
      }
     },
     "f3dfd27a997b4e618108786e90583ed0": {
      "model_module": "@jupyter-widgets/base",
      "model_module_version": "2.0.0",
      "model_name": "LayoutModel",
      "state": {}
     },
     "f46dfc70ed8c4a3a9c053542503c4fe6": {
      "model_module": "@jupyter-widgets/controls",
      "model_module_version": "2.0.0",
      "model_name": "HBoxModel",
      "state": {
       "children": [
        "IPY_MODEL_8791da4ffadc4d9382be17b9ff00b4a1",
        "IPY_MODEL_2ba5b12e44424f189a6889917215b285",
        "IPY_MODEL_39b08449baa446d3a81b0977b8343da8"
       ],
       "layout": "IPY_MODEL_131dee6e3af841eb91a6f1ffe3fa6ce1"
      }
     },
     "f47f4d4cb835403db52f2c76f6031ecc": {
      "model_module": "@jupyter-widgets/controls",
      "model_module_version": "2.0.0",
      "model_name": "HTMLStyleModel",
      "state": {
       "description_width": "",
       "font_size": null,
       "text_color": null
      }
     },
     "f515cecb6c9b4e45b897ebc8c4c1fa6c": {
      "model_module": "@jupyter-widgets/controls",
      "model_module_version": "2.0.0",
      "model_name": "HTMLModel",
      "state": {
       "layout": "IPY_MODEL_d4196614374f47f4841f352e51b508a4",
       "style": "IPY_MODEL_65a86e6da8774510b6776c48a9cee75e",
       "value": "adapter_config.json: 100%"
      }
     },
     "f5786db5cdab4cd195716f3e309e6ccd": {
      "model_module": "@jupyter-widgets/controls",
      "model_module_version": "2.0.0",
      "model_name": "FloatProgressModel",
      "state": {
       "bar_style": "success",
       "layout": "IPY_MODEL_d46026676dae4505b2edd12635c1ab9c",
       "max": 3864733680,
       "style": "IPY_MODEL_9b9eac8663544c2db0e53adf0d8fdb39",
       "value": 3864733680
      }
     },
     "f7bc9b4390d04c2ab1a29c4523b79d24": {
      "model_module": "@jupyter-widgets/base",
      "model_module_version": "2.0.0",
      "model_name": "LayoutModel",
      "state": {}
     },
     "f90097399301490d9c798dedefd62c4e": {
      "model_module": "@jupyter-widgets/base",
      "model_module_version": "2.0.0",
      "model_name": "LayoutModel",
      "state": {}
     },
     "f9045c5cb9bd4bb98fa0d644fcbf4afc": {
      "model_module": "@jupyter-widgets/base",
      "model_module_version": "2.0.0",
      "model_name": "LayoutModel",
      "state": {}
     },
     "f9b1242acf654b0483c4c97de040c0db": {
      "model_module": "@jupyter-widgets/base",
      "model_module_version": "2.0.0",
      "model_name": "LayoutModel",
      "state": {}
     },
     "fc6b36638a054fe0bb19e2a75ec3e6de": {
      "model_module": "@jupyter-widgets/base",
      "model_module_version": "2.0.0",
      "model_name": "LayoutModel",
      "state": {}
     },
     "fcf793472d874d7890cba1df08f18da7": {
      "model_module": "@jupyter-widgets/controls",
      "model_module_version": "2.0.0",
      "model_name": "FloatProgressModel",
      "state": {
       "bar_style": "success",
       "layout": "IPY_MODEL_08431af69ec54cb6a2b5e38fe38223f1",
       "max": 3864726424,
       "style": "IPY_MODEL_0a9b875360e94612ad4e6cb70cbcbfc0",
       "value": 3864726424
      }
     },
     "fd2d13f77f744e2fa5536204d85bb156": {
      "model_module": "@jupyter-widgets/controls",
      "model_module_version": "2.0.0",
      "model_name": "FloatProgressModel",
      "state": {
       "bar_style": "success",
       "layout": "IPY_MODEL_314486c990a944a2a272ed8baebf4a31",
       "max": 347,
       "style": "IPY_MODEL_339adcc3b2da4b17b9093df0e81eac29",
       "value": 347
      }
     },
     "fe109a0a062a48279d97cd97282b7fac": {
      "model_module": "@jupyter-widgets/base",
      "model_module_version": "2.0.0",
      "model_name": "LayoutModel",
      "state": {}
     },
     "fe97af7bdc1d4636969f4a472734e941": {
      "model_module": "@jupyter-widgets/base",
      "model_module_version": "2.0.0",
      "model_name": "LayoutModel",
      "state": {}
     },
     "ff5ee05da3ed4d098298c01ea8ef41a2": {
      "model_module": "@jupyter-widgets/controls",
      "model_module_version": "2.0.0",
      "model_name": "HTMLModel",
      "state": {
       "layout": "IPY_MODEL_0797d5291ac142209aea0251066cf134",
       "style": "IPY_MODEL_aef7d17beb664c919e049e1375c9e5af",
       "value": "model-00004-of-00005.safetensors: 100%"
      }
     },
     "ff6c2b7ccf7e4409a7784922d0725025": {
      "model_module": "@jupyter-widgets/controls",
      "model_module_version": "2.0.0",
      "model_name": "HTMLStyleModel",
      "state": {
       "description_width": "",
       "font_size": null,
       "text_color": null
      }
     }
    },
    "version_major": 2,
    "version_minor": 0
   }
  }
 },
 "nbformat": 4,
 "nbformat_minor": 5
}
